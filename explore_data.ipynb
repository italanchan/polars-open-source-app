{
 "cells": [
  {
   "attachments": {},
   "cell_type": "markdown",
   "metadata": {},
   "source": [
    "# Intro to Polars with NYC taxi data"
   ]
  },
  {
   "cell_type": "code",
   "execution_count": 2,
   "metadata": {},
   "outputs": [],
   "source": [
    "import polars as pl"
   ]
  },
  {
   "attachments": {},
   "cell_type": "markdown",
   "metadata": {},
   "source": [
    "## Parquet vs Arrow"
   ]
  },
  {
   "attachments": {},
   "cell_type": "markdown",
   "metadata": {},
   "source": [
    "Reading in a parquet file will always be slower than directly reading from an arrow file."
   ]
  },
  {
   "cell_type": "code",
   "execution_count": 3,
   "metadata": {},
   "outputs": [],
   "source": [
    "df = pl.read_parquet(\"data/fhvhv_data.parquet\")"
   ]
  },
  {
   "cell_type": "code",
   "execution_count": 4,
   "metadata": {},
   "outputs": [],
   "source": [
    "df.write_ipc(\"data/fhvhv_data.arrow\")"
   ]
  },
  {
   "cell_type": "code",
   "execution_count": 5,
   "metadata": {},
   "outputs": [],
   "source": [
    "df = pl.read_ipc(\"data/fhvhv_data.arrow\")\n"
   ]
  },
  {
   "attachments": {},
   "cell_type": "markdown",
   "metadata": {},
   "source": [
    "## Polars expressions and data manipulation"
   ]
  },
  {
   "attachments": {},
   "cell_type": "markdown",
   "metadata": {},
   "source": [
    "### Select"
   ]
  },
  {
   "cell_type": "code",
   "execution_count": 6,
   "metadata": {},
   "outputs": [
    {
     "data": {
      "text/html": [
       "<div><style>\n",
       ".dataframe > thead > tr > th,\n",
       ".dataframe > tbody > tr > td {\n",
       "  text-align: right;\n",
       "}\n",
       "</style>\n",
       "<small>shape: (5, 7)</small><table border=\"1\" class=\"dataframe\"><thead><tr><th>hvfhs_license_num</th><th>dispatching_base_num</th><th>tolls</th><th>sales_tax</th><th>tips</th><th>trip_miles</th><th>trip_time</th></tr><tr><td>str</td><td>str</td><td>f64</td><td>f64</td><td>f64</td><td>f64</td><td>i64</td></tr></thead><tbody><tr><td>&quot;HV0003&quot;</td><td>&quot;B03404&quot;</td><td>0.0</td><td>2.21</td><td>0.0</td><td>1.18</td><td>664</td></tr><tr><td>&quot;HV0003&quot;</td><td>&quot;B03404&quot;</td><td>0.0</td><td>1.06</td><td>0.0</td><td>0.82</td><td>460</td></tr><tr><td>&quot;HV0003&quot;</td><td>&quot;B03404&quot;</td><td>0.0</td><td>2.65</td><td>0.0</td><td>1.18</td><td>595</td></tr><tr><td>&quot;HV0003&quot;</td><td>&quot;B03404&quot;</td><td>0.0</td><td>0.7</td><td>0.0</td><td>1.65</td><td>303</td></tr><tr><td>&quot;HV0003&quot;</td><td>&quot;B03404&quot;</td><td>0.0</td><td>0.84</td><td>0.0</td><td>1.65</td><td>461</td></tr></tbody></table></div>"
      ],
      "text/plain": [
       "shape: (5, 7)\n",
       "┌───────────────────┬──────────────────────┬───────┬───────────┬──────┬────────────┬───────────┐\n",
       "│ hvfhs_license_num ┆ dispatching_base_num ┆ tolls ┆ sales_tax ┆ tips ┆ trip_miles ┆ trip_time │\n",
       "│ ---               ┆ ---                  ┆ ---   ┆ ---       ┆ ---  ┆ ---        ┆ ---       │\n",
       "│ str               ┆ str                  ┆ f64   ┆ f64       ┆ f64  ┆ f64        ┆ i64       │\n",
       "╞═══════════════════╪══════════════════════╪═══════╪═══════════╪══════╪════════════╪═══════════╡\n",
       "│ HV0003            ┆ B03404               ┆ 0.0   ┆ 2.21      ┆ 0.0  ┆ 1.18       ┆ 664       │\n",
       "│ HV0003            ┆ B03404               ┆ 0.0   ┆ 1.06      ┆ 0.0  ┆ 0.82       ┆ 460       │\n",
       "│ HV0003            ┆ B03404               ┆ 0.0   ┆ 2.65      ┆ 0.0  ┆ 1.18       ┆ 595       │\n",
       "│ HV0003            ┆ B03404               ┆ 0.0   ┆ 0.7       ┆ 0.0  ┆ 1.65       ┆ 303       │\n",
       "│ HV0003            ┆ B03404               ┆ 0.0   ┆ 0.84      ┆ 0.0  ┆ 1.65       ┆ 461       │\n",
       "└───────────────────┴──────────────────────┴───────┴───────────┴──────┴────────────┴───────────┘"
      ]
     },
     "execution_count": 6,
     "metadata": {},
     "output_type": "execute_result"
    }
   ],
   "source": [
    "df2 = df.select('hvfhs_license_num', 'dispatching_base_num', 'tolls', 'sales_tax','tips', 'trip_miles', 'trip_time')\n",
    "df2.head()"
   ]
  },
  {
   "attachments": {},
   "cell_type": "markdown",
   "metadata": {},
   "source": [
    "### Filter"
   ]
  },
  {
   "cell_type": "code",
   "execution_count": 8,
   "metadata": {},
   "outputs": [
    {
     "data": {
      "text/html": [
       "<div><style>\n",
       ".dataframe > thead > tr > th,\n",
       ".dataframe > tbody > tr > td {\n",
       "  text-align: right;\n",
       "}\n",
       "</style>\n",
       "<small>shape: (5, 7)</small><table border=\"1\" class=\"dataframe\"><thead><tr><th>hvfhs_license_num</th><th>dispatching_base_num</th><th>tolls</th><th>sales_tax</th><th>tips</th><th>trip_miles</th><th>trip_time</th></tr><tr><td>str</td><td>str</td><td>f64</td><td>f64</td><td>f64</td><td>f64</td><td>i64</td></tr></thead><tbody><tr><td>&quot;HV0003&quot;</td><td>&quot;B03404&quot;</td><td>0.0</td><td>3.45</td><td>10.0</td><td>3.93</td><td>1389</td></tr><tr><td>&quot;HV0003&quot;</td><td>&quot;B03404&quot;</td><td>0.0</td><td>2.03</td><td>5.11</td><td>10.05</td><td>1362</td></tr><tr><td>&quot;HV0003&quot;</td><td>&quot;B03404&quot;</td><td>0.0</td><td>3.14</td><td>7.92</td><td>7.92</td><td>1506</td></tr><tr><td>&quot;HV0003&quot;</td><td>&quot;B03404&quot;</td><td>0.0</td><td>1.78</td><td>5.03</td><td>1.86</td><td>515</td></tr><tr><td>&quot;HV0003&quot;</td><td>&quot;B03404&quot;</td><td>0.0</td><td>2.73</td><td>5.1</td><td>5.07</td><td>2088</td></tr></tbody></table></div>"
      ],
      "text/plain": [
       "shape: (5, 7)\n",
       "┌───────────────────┬──────────────────────┬───────┬───────────┬──────┬────────────┬───────────┐\n",
       "│ hvfhs_license_num ┆ dispatching_base_num ┆ tolls ┆ sales_tax ┆ tips ┆ trip_miles ┆ trip_time │\n",
       "│ ---               ┆ ---                  ┆ ---   ┆ ---       ┆ ---  ┆ ---        ┆ ---       │\n",
       "│ str               ┆ str                  ┆ f64   ┆ f64       ┆ f64  ┆ f64        ┆ i64       │\n",
       "╞═══════════════════╪══════════════════════╪═══════╪═══════════╪══════╪════════════╪═══════════╡\n",
       "│ HV0003            ┆ B03404               ┆ 0.0   ┆ 3.45      ┆ 10.0 ┆ 3.93       ┆ 1389      │\n",
       "│ HV0003            ┆ B03404               ┆ 0.0   ┆ 2.03      ┆ 5.11 ┆ 10.05      ┆ 1362      │\n",
       "│ HV0003            ┆ B03404               ┆ 0.0   ┆ 3.14      ┆ 7.92 ┆ 7.92       ┆ 1506      │\n",
       "│ HV0003            ┆ B03404               ┆ 0.0   ┆ 1.78      ┆ 5.03 ┆ 1.86       ┆ 515       │\n",
       "│ HV0003            ┆ B03404               ┆ 0.0   ┆ 2.73      ┆ 5.1  ┆ 5.07       ┆ 2088      │\n",
       "└───────────────────┴──────────────────────┴───────┴───────────┴──────┴────────────┴───────────┘"
      ]
     },
     "execution_count": 8,
     "metadata": {},
     "output_type": "execute_result"
    }
   ],
   "source": [
    "df2.filter(pl.col('tips') > 5).head()"
   ]
  },
  {
   "attachments": {},
   "cell_type": "markdown",
   "metadata": {},
   "source": [
    "### Make new dataframe  with_columns and alias"
   ]
  },
  {
   "cell_type": "code",
   "execution_count": 9,
   "metadata": {},
   "outputs": [
    {
     "data": {
      "text/html": [
       "<div><style>\n",
       ".dataframe > thead > tr > th,\n",
       ".dataframe > tbody > tr > td {\n",
       "  text-align: right;\n",
       "}\n",
       "</style>\n",
       "<small>shape: (5, 8)</small><table border=\"1\" class=\"dataframe\"><thead><tr><th>hvfhs_license_num</th><th>dispatching_base_num</th><th>tolls</th><th>sales_tax</th><th>tips</th><th>trip_miles</th><th>trip_time</th><th>rounded_miles</th></tr><tr><td>str</td><td>str</td><td>f64</td><td>f64</td><td>f64</td><td>f64</td><td>i64</td><td>f64</td></tr></thead><tbody><tr><td>&quot;HV0003&quot;</td><td>&quot;B03404&quot;</td><td>0.0</td><td>2.21</td><td>0.0</td><td>1.18</td><td>664</td><td>1.2</td></tr><tr><td>&quot;HV0003&quot;</td><td>&quot;B03404&quot;</td><td>0.0</td><td>1.06</td><td>0.0</td><td>0.82</td><td>460</td><td>0.8</td></tr><tr><td>&quot;HV0003&quot;</td><td>&quot;B03404&quot;</td><td>0.0</td><td>2.65</td><td>0.0</td><td>1.18</td><td>595</td><td>1.2</td></tr><tr><td>&quot;HV0003&quot;</td><td>&quot;B03404&quot;</td><td>0.0</td><td>0.7</td><td>0.0</td><td>1.65</td><td>303</td><td>1.7</td></tr><tr><td>&quot;HV0003&quot;</td><td>&quot;B03404&quot;</td><td>0.0</td><td>0.84</td><td>0.0</td><td>1.65</td><td>461</td><td>1.7</td></tr></tbody></table></div>"
      ],
      "text/plain": [
       "shape: (5, 8)\n",
       "┌───────────────┬───────────────┬───────┬───────────┬──────┬────────────┬───────────┬──────────────┐\n",
       "│ hvfhs_license ┆ dispatching_b ┆ tolls ┆ sales_tax ┆ tips ┆ trip_miles ┆ trip_time ┆ rounded_mile │\n",
       "│ _num          ┆ ase_num       ┆ ---   ┆ ---       ┆ ---  ┆ ---        ┆ ---       ┆ s            │\n",
       "│ ---           ┆ ---           ┆ f64   ┆ f64       ┆ f64  ┆ f64        ┆ i64       ┆ ---          │\n",
       "│ str           ┆ str           ┆       ┆           ┆      ┆            ┆           ┆ f64          │\n",
       "╞═══════════════╪═══════════════╪═══════╪═══════════╪══════╪════════════╪═══════════╪══════════════╡\n",
       "│ HV0003        ┆ B03404        ┆ 0.0   ┆ 2.21      ┆ 0.0  ┆ 1.18       ┆ 664       ┆ 1.2          │\n",
       "│ HV0003        ┆ B03404        ┆ 0.0   ┆ 1.06      ┆ 0.0  ┆ 0.82       ┆ 460       ┆ 0.8          │\n",
       "│ HV0003        ┆ B03404        ┆ 0.0   ┆ 2.65      ┆ 0.0  ┆ 1.18       ┆ 595       ┆ 1.2          │\n",
       "│ HV0003        ┆ B03404        ┆ 0.0   ┆ 0.7       ┆ 0.0  ┆ 1.65       ┆ 303       ┆ 1.7          │\n",
       "│ HV0003        ┆ B03404        ┆ 0.0   ┆ 0.84      ┆ 0.0  ┆ 1.65       ┆ 461       ┆ 1.7          │\n",
       "└───────────────┴───────────────┴───────┴───────────┴──────┴────────────┴───────────┴──────────────┘"
      ]
     },
     "execution_count": 9,
     "metadata": {},
     "output_type": "execute_result"
    }
   ],
   "source": [
    "df2.with_columns(pl.col(\"trip_miles\").round(1).alias(\"rounded_miles\")).head()"
   ]
  },
  {
   "attachments": {},
   "cell_type": "markdown",
   "metadata": {},
   "source": [
    "### Aggregate"
   ]
  },
  {
   "cell_type": "code",
   "execution_count": 10,
   "metadata": {},
   "outputs": [
    {
     "data": {
      "text/html": [
       "<div><style>\n",
       ".dataframe > thead > tr > th,\n",
       ".dataframe > tbody > tr > td {\n",
       "  text-align: right;\n",
       "}\n",
       "</style>\n",
       "<small>shape: (2530, 3)</small><table border=\"1\" class=\"dataframe\"><thead><tr><th>rounded_miles</th><th>rounded_time</th><th>count</th></tr><tr><td>f64</td><td>f64</td><td>u32</td></tr></thead><tbody><tr><td>15.0</td><td>7000.0</td><td>190</td></tr><tr><td>25.0</td><td>7000.0</td><td>227</td></tr><tr><td>57.0</td><td>16000.0</td><td>2</td></tr><tr><td>114.0</td><td>8000.0</td><td>35</td></tr><tr><td>65.0</td><td>6000.0</td><td>209</td></tr><tr><td>65.0</td><td>5000.0</td><td>397</td></tr><tr><td>65.0</td><td>4000.0</td><td>131</td></tr><tr><td>53.0</td><td>9000.0</td><td>13</td></tr><tr><td>67.0</td><td>5000.0</td><td>317</td></tr><tr><td>139.0</td><td>13000.0</td><td>1</td></tr><tr><td>12.0</td><td>12000.0</td><td>2</td></tr><tr><td>194.0</td><td>12000.0</td><td>2</td></tr><tr><td>&hellip;</td><td>&hellip;</td><td>&hellip;</td></tr><tr><td>47.0</td><td>5000.0</td><td>806</td></tr><tr><td>60.0</td><td>4000.0</td><td>399</td></tr><tr><td>88.0</td><td>7000.0</td><td>76</td></tr><tr><td>133.0</td><td>8000.0</td><td>9</td></tr><tr><td>105.0</td><td>7000.0</td><td>43</td></tr><tr><td>109.0</td><td>32000.0</td><td>1</td></tr><tr><td>97.0</td><td>9000.0</td><td>19</td></tr><tr><td>132.0</td><td>10000.0</td><td>10</td></tr><tr><td>4.0</td><td>5000.0</td><td>298</td></tr><tr><td>74.0</td><td>7000.0</td><td>48</td></tr><tr><td>125.0</td><td>8000.0</td><td>16</td></tr><tr><td>135.0</td><td>9000.0</td><td>14</td></tr></tbody></table></div>"
      ],
      "text/plain": [
       "shape: (2530, 3)\n",
       "┌───────────────┬──────────────┬───────┐\n",
       "│ rounded_miles ┆ rounded_time ┆ count │\n",
       "│ ---           ┆ ---          ┆ ---   │\n",
       "│ f64           ┆ f64          ┆ u32   │\n",
       "╞═══════════════╪══════════════╪═══════╡\n",
       "│ 15.0          ┆ 7000.0       ┆ 190   │\n",
       "│ 25.0          ┆ 7000.0       ┆ 227   │\n",
       "│ 57.0          ┆ 16000.0      ┆ 2     │\n",
       "│ 114.0         ┆ 8000.0       ┆ 35    │\n",
       "│ …             ┆ …            ┆ …     │\n",
       "│ 4.0           ┆ 5000.0       ┆ 298   │\n",
       "│ 74.0          ┆ 7000.0       ┆ 48    │\n",
       "│ 125.0         ┆ 8000.0       ┆ 16    │\n",
       "│ 135.0         ┆ 9000.0       ┆ 14    │\n",
       "└───────────────┴──────────────┴───────┘"
      ]
     },
     "execution_count": 10,
     "metadata": {},
     "output_type": "execute_result"
    }
   ],
   "source": [
    "df.select('hvfhs_license_num', 'dispatching_base_num', 'tolls', 'sales_tax','tips', 'trip_miles', 'trip_time').with_columns(\n",
    "            [\n",
    "                pl.col(\"trip_miles\")\n",
    "                .round(0)\n",
    "                .alias(\"rounded_miles\"),\n",
    "                pl.col(\"trip_time\")\n",
    "                .apply(lambda x: round(x / 1000, 0) * 1000)\n",
    "                .alias(\"rounded_time\"),\n",
    "            ]\n",
    "        ).groupby([\"rounded_miles\", \"rounded_time\"]).count()"
   ]
  },
  {
   "attachments": {},
   "cell_type": "markdown",
   "metadata": {},
   "source": [
    "## Lazy vs eager\n",
    "Polars lazy API allows you to build queries on data but waits on exection untill you say it's time. Here's an example of how the two differ:"
   ]
  },
  {
   "attachments": {},
   "cell_type": "markdown",
   "metadata": {},
   "source": [
    "#### Eager API with dataframe"
   ]
  },
  {
   "cell_type": "code",
   "execution_count": 45,
   "metadata": {},
   "outputs": [
    {
     "data": {
      "text/html": [
       "<div><style>\n",
       ".dataframe > thead > tr > th,\n",
       ".dataframe > tbody > tr > td {\n",
       "  text-align: right;\n",
       "}\n",
       "</style>\n",
       "<small>shape: (2745, 9)</small><table border=\"1\" class=\"dataframe\"><thead><tr><th>hvfhs_license_num</th><th>dispatching_base_num</th><th>tolls</th><th>sales_tax</th><th>tips</th><th>trip_miles</th><th>trip_time</th><th>rounded_miles</th><th>rounded_time</th></tr><tr><td>str</td><td>cat</td><td>f64</td><td>f64</td><td>f64</td><td>f64</td><td>i64</td><td>f64</td><td>f64</td></tr></thead><tbody><tr><td>&quot;HV0003&quot;</td><td>&quot;B03404&quot;</td><td>8.3</td><td>0.0</td><td>0.0</td><td>101.15</td><td>7455</td><td>101.0</td><td>7500.0</td></tr><tr><td>&quot;HV0003&quot;</td><td>&quot;B03404&quot;</td><td>8.3</td><td>0.0</td><td>82.06</td><td>100.66</td><td>10239</td><td>101.0</td><td>10200.0</td></tr><tr><td>&quot;HV0003&quot;</td><td>&quot;B03404&quot;</td><td>8.3</td><td>0.0</td><td>0.0</td><td>101.1</td><td>7041</td><td>101.0</td><td>7000.0</td></tr><tr><td>&quot;HV0003&quot;</td><td>&quot;B03404&quot;</td><td>40.85</td><td>0.0</td><td>15.0</td><td>100.74</td><td>7489</td><td>101.0</td><td>7500.0</td></tr><tr><td>&quot;HV0003&quot;</td><td>&quot;B03404&quot;</td><td>8.3</td><td>0.0</td><td>0.0</td><td>101.05</td><td>7887</td><td>101.0</td><td>7900.0</td></tr><tr><td>&quot;HV0003&quot;</td><td>&quot;B03404&quot;</td><td>8.3</td><td>0.0</td><td>0.0</td><td>101.2</td><td>6973</td><td>101.0</td><td>7000.0</td></tr><tr><td>&quot;HV0003&quot;</td><td>&quot;B03404&quot;</td><td>27.55</td><td>0.0</td><td>0.0</td><td>101.06</td><td>7902</td><td>101.0</td><td>7900.0</td></tr><tr><td>&quot;HV0003&quot;</td><td>&quot;B03404&quot;</td><td>38.1</td><td>0.0</td><td>0.0</td><td>101.23</td><td>8153</td><td>101.0</td><td>8200.0</td></tr><tr><td>&quot;HV0003&quot;</td><td>&quot;B03404&quot;</td><td>26.65</td><td>0.0</td><td>60.2</td><td>100.71</td><td>9667</td><td>101.0</td><td>9700.0</td></tr><tr><td>&quot;HV0003&quot;</td><td>&quot;B03404&quot;</td><td>40.1</td><td>0.0</td><td>0.0</td><td>101.47</td><td>7037</td><td>101.0</td><td>7000.0</td></tr><tr><td>&quot;HV0003&quot;</td><td>&quot;B03404&quot;</td><td>35.05</td><td>0.0</td><td>0.0</td><td>101.03</td><td>6447</td><td>101.0</td><td>6400.0</td></tr><tr><td>&quot;HV0003&quot;</td><td>&quot;B03404&quot;</td><td>35.05</td><td>0.0</td><td>45.33</td><td>101.04</td><td>6293</td><td>101.0</td><td>6300.0</td></tr><tr><td>&hellip;</td><td>&hellip;</td><td>&hellip;</td><td>&hellip;</td><td>&hellip;</td><td>&hellip;</td><td>&hellip;</td><td>&hellip;</td><td>&hellip;</td></tr><tr><td>&quot;HV0003&quot;</td><td>&quot;B03404&quot;</td><td>20.85</td><td>0.0</td><td>0.0</td><td>464.62</td><td>30221</td><td>465.0</td><td>30200.0</td></tr><tr><td>&quot;HV0003&quot;</td><td>&quot;B03404&quot;</td><td>51.58</td><td>0.0</td><td>0.0</td><td>470.47</td><td>31209</td><td>470.0</td><td>31200.0</td></tr><tr><td>&quot;HV0003&quot;</td><td>&quot;B03404&quot;</td><td>60.85</td><td>236.22</td><td>0.0</td><td>472.32</td><td>34254</td><td>472.0</td><td>34300.0</td></tr><tr><td>&quot;HV0003&quot;</td><td>&quot;B03404&quot;</td><td>110.07</td><td>133.64</td><td>0.0</td><td>474.58</td><td>33933</td><td>475.0</td><td>33900.0</td></tr><tr><td>&quot;HV0003&quot;</td><td>&quot;B03404&quot;</td><td>87.3</td><td>246.84</td><td>0.0</td><td>478.86</td><td>42158</td><td>479.0</td><td>42200.0</td></tr><tr><td>&quot;HV0003&quot;</td><td>&quot;B03404&quot;</td><td>112.31</td><td>140.54</td><td>110.0</td><td>482.48</td><td>44726</td><td>482.0</td><td>44700.0</td></tr><tr><td>&quot;HV0003&quot;</td><td>&quot;B03404&quot;</td><td>95.05</td><td>168.65</td><td>0.0</td><td>490.32</td><td>36379</td><td>490.0</td><td>36400.0</td></tr><tr><td>&quot;HV0003&quot;</td><td>&quot;B03404&quot;</td><td>135.32</td><td>287.58</td><td>0.0</td><td>493.33</td><td>36663</td><td>493.0</td><td>36700.0</td></tr><tr><td>&quot;HV0003&quot;</td><td>&quot;B03404&quot;</td><td>92.89</td><td>137.12</td><td>0.0</td><td>496.71</td><td>30808</td><td>497.0</td><td>30800.0</td></tr><tr><td>&quot;HV0003&quot;</td><td>&quot;B03404&quot;</td><td>49.64</td><td>0.0</td><td>100.0</td><td>534.18</td><td>39144</td><td>534.0</td><td>39100.0</td></tr><tr><td>&quot;HV0003&quot;</td><td>&quot;B03404&quot;</td><td>81.97</td><td>150.77</td><td>0.0</td><td>552.42</td><td>36846</td><td>552.0</td><td>36800.0</td></tr><tr><td>&quot;HV0003&quot;</td><td>&quot;B03404&quot;</td><td>52.08</td><td>0.0</td><td>0.0</td><td>628.7</td><td>37650</td><td>629.0</td><td>37600.0</td></tr></tbody></table></div>"
      ],
      "text/plain": [
       "shape: (2745, 9)\n",
       "┌────────────┬────────────┬───────┬───────────┬───┬──────────┬───────────┬────────────┬────────────┐\n",
       "│ hvfhs_lice ┆ dispatchin ┆ tolls ┆ sales_tax ┆ … ┆ trip_mil ┆ trip_time ┆ rounded_mi ┆ rounded_ti │\n",
       "│ nse_num    ┆ g_base_num ┆ ---   ┆ ---       ┆   ┆ es       ┆ ---       ┆ les        ┆ me         │\n",
       "│ ---        ┆ ---        ┆ f64   ┆ f64       ┆   ┆ ---      ┆ i64       ┆ ---        ┆ ---        │\n",
       "│ str        ┆ cat        ┆       ┆           ┆   ┆ f64      ┆           ┆ f64        ┆ f64        │\n",
       "╞════════════╪════════════╪═══════╪═══════════╪═══╪══════════╪═══════════╪════════════╪════════════╡\n",
       "│ HV0003     ┆ B03404     ┆ 8.3   ┆ 0.0       ┆ … ┆ 101.15   ┆ 7455      ┆ 101.0      ┆ 7500.0     │\n",
       "│ HV0003     ┆ B03404     ┆ 8.3   ┆ 0.0       ┆ … ┆ 100.66   ┆ 10239     ┆ 101.0      ┆ 10200.0    │\n",
       "│ HV0003     ┆ B03404     ┆ 8.3   ┆ 0.0       ┆ … ┆ 101.1    ┆ 7041      ┆ 101.0      ┆ 7000.0     │\n",
       "│ HV0003     ┆ B03404     ┆ 40.85 ┆ 0.0       ┆ … ┆ 100.74   ┆ 7489      ┆ 101.0      ┆ 7500.0     │\n",
       "│ …          ┆ …          ┆ …     ┆ …         ┆ … ┆ …        ┆ …         ┆ …          ┆ …          │\n",
       "│ HV0003     ┆ B03404     ┆ 92.89 ┆ 137.12    ┆ … ┆ 496.71   ┆ 30808     ┆ 497.0      ┆ 30800.0    │\n",
       "│ HV0003     ┆ B03404     ┆ 49.64 ┆ 0.0       ┆ … ┆ 534.18   ┆ 39144     ┆ 534.0      ┆ 39100.0    │\n",
       "│ HV0003     ┆ B03404     ┆ 81.97 ┆ 150.77    ┆ … ┆ 552.42   ┆ 36846     ┆ 552.0      ┆ 36800.0    │\n",
       "│ HV0003     ┆ B03404     ┆ 52.08 ┆ 0.0       ┆ … ┆ 628.7    ┆ 37650     ┆ 629.0      ┆ 37600.0    │\n",
       "└────────────┴────────────┴───────┴───────────┴───┴──────────┴───────────┴────────────┴────────────┘"
      ]
     },
     "execution_count": 45,
     "metadata": {},
     "output_type": "execute_result"
    }
   ],
   "source": [
    "df.select(\n",
    "    \"hvfhs_license_num\",\n",
    "    \"dispatching_base_num\",\n",
    "    \"tolls\",\n",
    "    \"sales_tax\",\n",
    "    \"tips\",\n",
    "    \"trip_miles\",\n",
    "    \"trip_time\",\n",
    ").with_columns(\n",
    "    [\n",
    "        pl.col(\"trip_miles\").round(0).alias(\"rounded_miles\"),\n",
    "        pl.col(\"trip_time\")\n",
    "        .apply(lambda x: round(x / 100, 0) * 100)\n",
    "        .alias(\"rounded_time\"),\n",
    "        pl.col(\"dispatching_base_num\").cast(pl.Categorical),\n",
    "    ]\n",
    ").sort(\n",
    "    pl.col(\"sales_tax\")\n",
    ").sort(\n",
    "    pl.col(\"rounded_miles\")\n",
    ").filter(\n",
    "    pl.col(\"rounded_miles\") > 100\n",
    ").filter(\n",
    "    pl.col(\"rounded_time\") > 10\n",
    ").filter(pl.col(\"dispatching_base_num\") == \"B03404\")"
   ]
  },
  {
   "attachments": {},
   "cell_type": "markdown",
   "metadata": {},
   "source": [
    "#### Lazy API with lazyframe"
   ]
  },
  {
   "attachments": {},
   "cell_type": "markdown",
   "metadata": {},
   "source": [
    "##### Build first"
   ]
  },
  {
   "cell_type": "code",
   "execution_count": 48,
   "metadata": {},
   "outputs": [],
   "source": [
    "ldf = pl.scan_ipc(\"data/fhvhv_data.arrow\")\n",
    "query = ldf.select(\n",
    "    \"hvfhs_license_num\",\n",
    "    \"dispatching_base_num\",\n",
    "    \"tolls\",\n",
    "    \"sales_tax\",\n",
    "    \"tips\",\n",
    "    \"trip_miles\",\n",
    "    \"trip_time\",\n",
    ").with_columns(\n",
    "    [\n",
    "        pl.col(\"trip_miles\").round(0).alias(\"rounded_miles\"),\n",
    "        pl.col(\"trip_time\")\n",
    "        .apply(lambda x: round(x / 100, 0) * 100)\n",
    "        .alias(\"rounded_time\"),\n",
    "        pl.col(\"dispatching_base_num\").cast(pl.Categorical),\n",
    "    ]\n",
    ").sort(\n",
    "    pl.col(\"sales_tax\")\n",
    ").sort(\n",
    "    pl.col(\"rounded_miles\")\n",
    ").filter(\n",
    "    pl.col(\"rounded_miles\") > 100\n",
    ").filter(\n",
    "    pl.col(\"rounded_time\") > 10\n",
    ").filter(pl.col(\"dispatching_base_num\") == \"B03404\")"
   ]
  },
  {
   "attachments": {},
   "cell_type": "markdown",
   "metadata": {},
   "source": [
    "##### Then use collect for computation to fire"
   ]
  },
  {
   "cell_type": "code",
   "execution_count": 49,
   "metadata": {},
   "outputs": [
    {
     "data": {
      "text/html": [
       "<div><style>\n",
       ".dataframe > thead > tr > th,\n",
       ".dataframe > tbody > tr > td {\n",
       "  text-align: right;\n",
       "}\n",
       "</style>\n",
       "<small>shape: (2745, 9)</small><table border=\"1\" class=\"dataframe\"><thead><tr><th>hvfhs_license_num</th><th>dispatching_base_num</th><th>tolls</th><th>sales_tax</th><th>tips</th><th>trip_miles</th><th>trip_time</th><th>rounded_miles</th><th>rounded_time</th></tr><tr><td>str</td><td>cat</td><td>f64</td><td>f64</td><td>f64</td><td>f64</td><td>i64</td><td>f64</td><td>f64</td></tr></thead><tbody><tr><td>&quot;HV0003&quot;</td><td>&quot;B03404&quot;</td><td>8.3</td><td>0.0</td><td>0.0</td><td>101.15</td><td>7455</td><td>101.0</td><td>7500.0</td></tr><tr><td>&quot;HV0003&quot;</td><td>&quot;B03404&quot;</td><td>8.3</td><td>0.0</td><td>82.06</td><td>100.66</td><td>10239</td><td>101.0</td><td>10200.0</td></tr><tr><td>&quot;HV0003&quot;</td><td>&quot;B03404&quot;</td><td>8.3</td><td>0.0</td><td>0.0</td><td>101.1</td><td>7041</td><td>101.0</td><td>7000.0</td></tr><tr><td>&quot;HV0003&quot;</td><td>&quot;B03404&quot;</td><td>40.85</td><td>0.0</td><td>15.0</td><td>100.74</td><td>7489</td><td>101.0</td><td>7500.0</td></tr><tr><td>&quot;HV0003&quot;</td><td>&quot;B03404&quot;</td><td>8.3</td><td>0.0</td><td>0.0</td><td>101.05</td><td>7887</td><td>101.0</td><td>7900.0</td></tr><tr><td>&quot;HV0003&quot;</td><td>&quot;B03404&quot;</td><td>8.3</td><td>0.0</td><td>0.0</td><td>101.2</td><td>6973</td><td>101.0</td><td>7000.0</td></tr><tr><td>&quot;HV0003&quot;</td><td>&quot;B03404&quot;</td><td>27.55</td><td>0.0</td><td>0.0</td><td>101.06</td><td>7902</td><td>101.0</td><td>7900.0</td></tr><tr><td>&quot;HV0003&quot;</td><td>&quot;B03404&quot;</td><td>38.1</td><td>0.0</td><td>0.0</td><td>101.23</td><td>8153</td><td>101.0</td><td>8200.0</td></tr><tr><td>&quot;HV0003&quot;</td><td>&quot;B03404&quot;</td><td>26.65</td><td>0.0</td><td>60.2</td><td>100.71</td><td>9667</td><td>101.0</td><td>9700.0</td></tr><tr><td>&quot;HV0003&quot;</td><td>&quot;B03404&quot;</td><td>40.1</td><td>0.0</td><td>0.0</td><td>101.47</td><td>7037</td><td>101.0</td><td>7000.0</td></tr><tr><td>&quot;HV0003&quot;</td><td>&quot;B03404&quot;</td><td>35.05</td><td>0.0</td><td>0.0</td><td>101.03</td><td>6447</td><td>101.0</td><td>6400.0</td></tr><tr><td>&quot;HV0003&quot;</td><td>&quot;B03404&quot;</td><td>35.05</td><td>0.0</td><td>45.33</td><td>101.04</td><td>6293</td><td>101.0</td><td>6300.0</td></tr><tr><td>&hellip;</td><td>&hellip;</td><td>&hellip;</td><td>&hellip;</td><td>&hellip;</td><td>&hellip;</td><td>&hellip;</td><td>&hellip;</td><td>&hellip;</td></tr><tr><td>&quot;HV0003&quot;</td><td>&quot;B03404&quot;</td><td>20.85</td><td>0.0</td><td>0.0</td><td>464.62</td><td>30221</td><td>465.0</td><td>30200.0</td></tr><tr><td>&quot;HV0003&quot;</td><td>&quot;B03404&quot;</td><td>51.58</td><td>0.0</td><td>0.0</td><td>470.47</td><td>31209</td><td>470.0</td><td>31200.0</td></tr><tr><td>&quot;HV0003&quot;</td><td>&quot;B03404&quot;</td><td>60.85</td><td>236.22</td><td>0.0</td><td>472.32</td><td>34254</td><td>472.0</td><td>34300.0</td></tr><tr><td>&quot;HV0003&quot;</td><td>&quot;B03404&quot;</td><td>110.07</td><td>133.64</td><td>0.0</td><td>474.58</td><td>33933</td><td>475.0</td><td>33900.0</td></tr><tr><td>&quot;HV0003&quot;</td><td>&quot;B03404&quot;</td><td>87.3</td><td>246.84</td><td>0.0</td><td>478.86</td><td>42158</td><td>479.0</td><td>42200.0</td></tr><tr><td>&quot;HV0003&quot;</td><td>&quot;B03404&quot;</td><td>112.31</td><td>140.54</td><td>110.0</td><td>482.48</td><td>44726</td><td>482.0</td><td>44700.0</td></tr><tr><td>&quot;HV0003&quot;</td><td>&quot;B03404&quot;</td><td>95.05</td><td>168.65</td><td>0.0</td><td>490.32</td><td>36379</td><td>490.0</td><td>36400.0</td></tr><tr><td>&quot;HV0003&quot;</td><td>&quot;B03404&quot;</td><td>135.32</td><td>287.58</td><td>0.0</td><td>493.33</td><td>36663</td><td>493.0</td><td>36700.0</td></tr><tr><td>&quot;HV0003&quot;</td><td>&quot;B03404&quot;</td><td>92.89</td><td>137.12</td><td>0.0</td><td>496.71</td><td>30808</td><td>497.0</td><td>30800.0</td></tr><tr><td>&quot;HV0003&quot;</td><td>&quot;B03404&quot;</td><td>49.64</td><td>0.0</td><td>100.0</td><td>534.18</td><td>39144</td><td>534.0</td><td>39100.0</td></tr><tr><td>&quot;HV0003&quot;</td><td>&quot;B03404&quot;</td><td>81.97</td><td>150.77</td><td>0.0</td><td>552.42</td><td>36846</td><td>552.0</td><td>36800.0</td></tr><tr><td>&quot;HV0003&quot;</td><td>&quot;B03404&quot;</td><td>52.08</td><td>0.0</td><td>0.0</td><td>628.7</td><td>37650</td><td>629.0</td><td>37600.0</td></tr></tbody></table></div>"
      ],
      "text/plain": [
       "shape: (2745, 9)\n",
       "┌────────────┬────────────┬───────┬───────────┬───┬──────────┬───────────┬────────────┬────────────┐\n",
       "│ hvfhs_lice ┆ dispatchin ┆ tolls ┆ sales_tax ┆ … ┆ trip_mil ┆ trip_time ┆ rounded_mi ┆ rounded_ti │\n",
       "│ nse_num    ┆ g_base_num ┆ ---   ┆ ---       ┆   ┆ es       ┆ ---       ┆ les        ┆ me         │\n",
       "│ ---        ┆ ---        ┆ f64   ┆ f64       ┆   ┆ ---      ┆ i64       ┆ ---        ┆ ---        │\n",
       "│ str        ┆ cat        ┆       ┆           ┆   ┆ f64      ┆           ┆ f64        ┆ f64        │\n",
       "╞════════════╪════════════╪═══════╪═══════════╪═══╪══════════╪═══════════╪════════════╪════════════╡\n",
       "│ HV0003     ┆ B03404     ┆ 8.3   ┆ 0.0       ┆ … ┆ 101.15   ┆ 7455      ┆ 101.0      ┆ 7500.0     │\n",
       "│ HV0003     ┆ B03404     ┆ 8.3   ┆ 0.0       ┆ … ┆ 100.66   ┆ 10239     ┆ 101.0      ┆ 10200.0    │\n",
       "│ HV0003     ┆ B03404     ┆ 8.3   ┆ 0.0       ┆ … ┆ 101.1    ┆ 7041      ┆ 101.0      ┆ 7000.0     │\n",
       "│ HV0003     ┆ B03404     ┆ 40.85 ┆ 0.0       ┆ … ┆ 100.74   ┆ 7489      ┆ 101.0      ┆ 7500.0     │\n",
       "│ …          ┆ …          ┆ …     ┆ …         ┆ … ┆ …        ┆ …         ┆ …          ┆ …          │\n",
       "│ HV0003     ┆ B03404     ┆ 92.89 ┆ 137.12    ┆ … ┆ 496.71   ┆ 30808     ┆ 497.0      ┆ 30800.0    │\n",
       "│ HV0003     ┆ B03404     ┆ 49.64 ┆ 0.0       ┆ … ┆ 534.18   ┆ 39144     ┆ 534.0      ┆ 39100.0    │\n",
       "│ HV0003     ┆ B03404     ┆ 81.97 ┆ 150.77    ┆ … ┆ 552.42   ┆ 36846     ┆ 552.0      ┆ 36800.0    │\n",
       "│ HV0003     ┆ B03404     ┆ 52.08 ┆ 0.0       ┆ … ┆ 628.7    ┆ 37650     ┆ 629.0      ┆ 37600.0    │\n",
       "└────────────┴────────────┴───────┴───────────┴───┴──────────┴───────────┴────────────┴────────────┘"
      ]
     },
     "execution_count": 49,
     "metadata": {},
     "output_type": "execute_result"
    }
   ],
   "source": [
    "query.collect()"
   ]
  },
  {
   "attachments": {},
   "cell_type": "markdown",
   "metadata": {},
   "source": [
    "##### Visualize the lazy API execution plan"
   ]
  },
  {
   "cell_type": "code",
   "execution_count": 50,
   "metadata": {},
   "outputs": [
    {
     "data": {
      "image/svg+xml": [
       "<svg xmlns=\"http://www.w3.org/2000/svg\" xmlns:xlink=\"http://www.w3.org/1999/xlink\" width=\"611pt\" height=\"421pt\" viewBox=\"0.00 0.00 611.00 421.00\">\n",
       "<g id=\"graph0\" class=\"graph\" transform=\"scale(1 1) rotate(0) translate(4 417)\">\n",
       "<title>polars_query</title>\n",
       "<polygon fill=\"white\" stroke=\"none\" points=\"-4,4 -4,-417 607,-417 607,4 -4,4\"/>\n",
       "<!-- SORT BY [col(&quot;rounded_miles&quot;)] [(0, 0)] -->\n",
       "<g id=\"node1\" class=\"node\">\n",
       "<title>SORT BY [col(&quot;rounded_miles&quot;)] [(0, 0)]</title>\n",
       "<polygon fill=\"none\" stroke=\"black\" points=\"403,-413 200,-413 200,-377 403,-377 403,-413\"/>\n",
       "<text text-anchor=\"middle\" x=\"301.5\" y=\"-391.3\" font-family=\"Times,serif\" font-size=\"14.00\">SORT BY [col(&quot;rounded_miles&quot;)]</text>\n",
       "</g>\n",
       "<!-- SORT BY [col(&quot;sales_tax&quot;)] [(0, 1)] -->\n",
       "<g id=\"node2\" class=\"node\">\n",
       "<title>SORT BY [col(&quot;sales_tax&quot;)] [(0, 1)]</title>\n",
       "<polygon fill=\"none\" stroke=\"black\" points=\"387.5,-341 215.5,-341 215.5,-305 387.5,-305 387.5,-341\"/>\n",
       "<text text-anchor=\"middle\" x=\"301.5\" y=\"-319.3\" font-family=\"Times,serif\" font-size=\"14.00\">SORT BY [col(&quot;sales_tax&quot;)]</text>\n",
       "</g>\n",
       "<!-- SORT BY [col(&quot;rounded_miles&quot;)] [(0, 0)]&#45;&#45;SORT BY [col(&quot;sales_tax&quot;)] [(0, 1)] -->\n",
       "<g id=\"edge1\" class=\"edge\">\n",
       "<title>SORT BY [col(&quot;rounded_miles&quot;)] [(0, 0)]--SORT BY [col(&quot;sales_tax&quot;)] [(0, 1)]</title>\n",
       "<path fill=\"none\" stroke=\"black\" d=\"M301.5,-376.7C301.5,-365.85 301.5,-351.92 301.5,-341.1\"/>\n",
       "</g>\n",
       "<!-- FILTER BY (((col(&quot;rounded_miles&quot;)) ... [(0, 2)] -->\n",
       "<g id=\"node3\" class=\"node\">\n",
       "<title>FILTER BY (((col(&quot;rounded_miles&quot;)) ... [(0, 2)]</title>\n",
       "<polygon fill=\"none\" stroke=\"black\" points=\"421,-269 182,-269 182,-233 421,-233 421,-269\"/>\n",
       "<text text-anchor=\"middle\" x=\"301.5\" y=\"-247.3\" font-family=\"Times,serif\" font-size=\"14.00\">FILTER BY (((col(&quot;rounded_miles&quot;)) ...</text>\n",
       "</g>\n",
       "<!-- SORT BY [col(&quot;sales_tax&quot;)] [(0, 1)]&#45;&#45;FILTER BY (((col(&quot;rounded_miles&quot;)) ... [(0, 2)] -->\n",
       "<g id=\"edge2\" class=\"edge\">\n",
       "<title>SORT BY [col(&quot;sales_tax&quot;)] [(0, 1)]--FILTER BY (((col(&quot;rounded_miles&quot;)) ... [(0, 2)]</title>\n",
       "<path fill=\"none\" stroke=\"black\" d=\"M301.5,-304.7C301.5,-293.85 301.5,-279.92 301.5,-269.1\"/>\n",
       "</g>\n",
       "<!-- WITH COLUMNS [&quot;rounded_miles&quot;,&quot;rounded_time&quot;,&quot;dispatching_base_num&quot;] [(0, 3)] -->\n",
       "<g id=\"node4\" class=\"node\">\n",
       "<title>WITH COLUMNS [&quot;rounded_miles&quot;,&quot;rounded_time&quot;,&quot;dispatching_base_num&quot;] [(0, 3)]</title>\n",
       "<polygon fill=\"none\" stroke=\"black\" points=\"532,-197 71,-197 71,-161 532,-161 532,-197\"/>\n",
       "<text text-anchor=\"middle\" x=\"301.5\" y=\"-175.3\" font-family=\"Times,serif\" font-size=\"14.00\">WITH COLUMNS [&quot;rounded_miles&quot;,&quot;rounded_time&quot;,&quot;dispatching_base_num&quot;]</text>\n",
       "</g>\n",
       "<!-- FILTER BY (((col(&quot;rounded_miles&quot;)) ... [(0, 2)]&#45;&#45;WITH COLUMNS [&quot;rounded_miles&quot;,&quot;rounded_time&quot;,&quot;dispatching_base_num&quot;] [(0, 3)] -->\n",
       "<g id=\"edge3\" class=\"edge\">\n",
       "<title>FILTER BY (((col(&quot;rounded_miles&quot;)) ... [(0, 2)]--WITH COLUMNS [&quot;rounded_miles&quot;,&quot;rounded_time&quot;,&quot;dispatching_base_num&quot;] [(0, 3)]</title>\n",
       "<path fill=\"none\" stroke=\"black\" d=\"M301.5,-232.7C301.5,-221.85 301.5,-207.92 301.5,-197.1\"/>\n",
       "</g>\n",
       "<!-- FAST_PROJECT: [hvfhs_license_num, dispatching_base_num, tolls, sales_tax, tips, trip_miles, trip_time] [(0, 4)] -->\n",
       "<g id=\"node5\" class=\"node\">\n",
       "<title>FAST_PROJECT: [hvfhs_license_num, dispatching_base_num, tolls, sales_tax, tips, trip_miles, trip_time] [(0, 4)]</title>\n",
       "<polygon fill=\"none\" stroke=\"black\" points=\"603,-125 0,-125 0,-89 603,-89 603,-125\"/>\n",
       "<text text-anchor=\"middle\" x=\"301.5\" y=\"-103.3\" font-family=\"Times,serif\" font-size=\"14.00\">FAST_PROJECT: [hvfhs_license_num, dispatching_base_num, tolls, sales_tax, tips, trip_miles, trip_time]</text>\n",
       "</g>\n",
       "<!-- WITH COLUMNS [&quot;rounded_miles&quot;,&quot;rounded_time&quot;,&quot;dispatching_base_num&quot;] [(0, 3)]&#45;&#45;FAST_PROJECT: [hvfhs_license_num, dispatching_base_num, tolls, sales_tax, tips, trip_miles, trip_time] [(0, 4)] -->\n",
       "<g id=\"edge4\" class=\"edge\">\n",
       "<title>WITH COLUMNS [&quot;rounded_miles&quot;,&quot;rounded_time&quot;,&quot;dispatching_base_num&quot;] [(0, 3)]--FAST_PROJECT: [hvfhs_license_num, dispatching_base_num, tolls, sales_tax, tips, trip_miles, trip_time] [(0, 4)]</title>\n",
       "<path fill=\"none\" stroke=\"black\" d=\"M301.5,-160.7C301.5,-149.85 301.5,-135.92 301.5,-125.1\"/>\n",
       "</g>\n",
       "<!-- IPC SCAN data/fhvhv_data.arrow;\n",
       "π 7/24;\n",
       "σ &#45; [(0, 5)] -->\n",
       "<g id=\"node6\" class=\"node\">\n",
       "<title>IPC SCAN data/fhvhv_data.arrow;\n",
       "π 7/24;\n",
       "σ - [(0, 5)]</title>\n",
       "<polygon fill=\"none\" stroke=\"black\" points=\"405,-53 198,-53 198,0 405,0 405,-53\"/>\n",
       "<text text-anchor=\"middle\" x=\"301.5\" y=\"-37.8\" font-family=\"Times,serif\" font-size=\"14.00\">IPC SCAN data/fhvhv_data.arrow;</text>\n",
       "<text text-anchor=\"middle\" x=\"301.5\" y=\"-22.8\" font-family=\"Times,serif\" font-size=\"14.00\">π 7/24;</text>\n",
       "<text text-anchor=\"middle\" x=\"301.5\" y=\"-7.8\" font-family=\"Times,serif\" font-size=\"14.00\">σ -</text>\n",
       "</g>\n",
       "<!-- FAST_PROJECT: [hvfhs_license_num, dispatching_base_num, tolls, sales_tax, tips, trip_miles, trip_time] [(0, 4)]&#45;&#45;IPC SCAN data/fhvhv_data.arrow;\n",
       "π 7/24;\n",
       "σ &#45; [(0, 5)] -->\n",
       "<g id=\"edge5\" class=\"edge\">\n",
       "<title>FAST_PROJECT: [hvfhs_license_num, dispatching_base_num, tolls, sales_tax, tips, trip_miles, trip_time] [(0, 4)]--IPC SCAN data/fhvhv_data.arrow;\n",
       "π 7/24;\n",
       "σ - [(0, 5)]</title>\n",
       "<path fill=\"none\" stroke=\"black\" d=\"M301.5,-88.58C301.5,-78.19 301.5,-64.81 301.5,-53.22\"/>\n",
       "</g>\n",
       "</g>\n",
       "</svg>"
      ],
      "text/plain": [
       "<IPython.core.display.SVG object>"
      ]
     },
     "metadata": {},
     "output_type": "display_data"
    }
   ],
   "source": [
    "query.show_graph()"
   ]
  }
 ],
 "metadata": {
  "kernelspec": {
   "display_name": "polars-app",
   "language": "python",
   "name": "python3"
  },
  "language_info": {
   "codemirror_mode": {
    "name": "ipython",
    "version": 3
   },
   "file_extension": ".py",
   "mimetype": "text/x-python",
   "name": "python",
   "nbconvert_exporter": "python",
   "pygments_lexer": "ipython3",
   "version": "3.9.16"
  },
  "orig_nbformat": 4
 },
 "nbformat": 4,
 "nbformat_minor": 2
}
