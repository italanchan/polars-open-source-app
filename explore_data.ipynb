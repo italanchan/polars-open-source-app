{
 "cells": [
  {
   "attachments": {},
   "cell_type": "markdown",
   "metadata": {},
   "source": [
    "# Intro to Polars with NYC taxi data"
   ]
  },
  {
   "cell_type": "code",
   "execution_count": 3,
   "metadata": {},
   "outputs": [],
   "source": [
    "import polars as pl"
   ]
  },
  {
   "attachments": {},
   "cell_type": "markdown",
   "metadata": {},
   "source": [
    "## Parquet vs Arrow"
   ]
  },
  {
   "cell_type": "code",
   "execution_count": 4,
   "metadata": {},
   "outputs": [],
   "source": [
    "df = pl.read_parquet(\"data/fhvhv_data.parquet\")"
   ]
  },
  {
   "cell_type": "code",
   "execution_count": 6,
   "metadata": {},
   "outputs": [],
   "source": [
    "df.write_ipc(\"data/fhvhv_data.arrow\")"
   ]
  },
  {
   "cell_type": "code",
   "execution_count": 13,
   "metadata": {},
   "outputs": [
    {
     "data": {
      "text/html": [
       "<div><style>\n",
       ".dataframe > thead > tr > th,\n",
       ".dataframe > tbody > tr > td {\n",
       "  text-align: right;\n",
       "}\n",
       "</style>\n",
       "<small>shape: (49224422, 7)</small><table border=\"1\" class=\"dataframe\"><thead><tr><th>hvfhs_license_num</th><th>dispatching_base_num</th><th>tolls</th><th>sales_tax</th><th>tips</th><th>trip_miles</th><th>trip_time</th></tr><tr><td>str</td><td>str</td><td>f64</td><td>f64</td><td>f64</td><td>f64</td><td>i64</td></tr></thead><tbody><tr><td>&quot;HV0003&quot;</td><td>&quot;B03404&quot;</td><td>0.0</td><td>2.21</td><td>0.0</td><td>1.18</td><td>664</td></tr><tr><td>&quot;HV0003&quot;</td><td>&quot;B03404&quot;</td><td>0.0</td><td>1.06</td><td>0.0</td><td>0.82</td><td>460</td></tr><tr><td>&quot;HV0003&quot;</td><td>&quot;B03404&quot;</td><td>0.0</td><td>2.65</td><td>0.0</td><td>1.18</td><td>595</td></tr><tr><td>&quot;HV0003&quot;</td><td>&quot;B03404&quot;</td><td>0.0</td><td>0.7</td><td>0.0</td><td>1.65</td><td>303</td></tr><tr><td>&quot;HV0003&quot;</td><td>&quot;B03404&quot;</td><td>0.0</td><td>0.84</td><td>0.0</td><td>1.65</td><td>461</td></tr><tr><td>&quot;HV0003&quot;</td><td>&quot;B03404&quot;</td><td>0.0</td><td>1.57</td><td>0.0</td><td>4.51</td><td>762</td></tr><tr><td>&quot;HV0003&quot;</td><td>&quot;B03404&quot;</td><td>0.0</td><td>1.48</td><td>0.0</td><td>3.68</td><td>931</td></tr><tr><td>&quot;HV0003&quot;</td><td>&quot;B03404&quot;</td><td>0.0</td><td>1.28</td><td>4.0</td><td>2.77</td><td>843</td></tr><tr><td>&quot;HV0003&quot;</td><td>&quot;B03404&quot;</td><td>0.0</td><td>0.94</td><td>0.0</td><td>2.04</td><td>710</td></tr><tr><td>&quot;HV0003&quot;</td><td>&quot;B03404&quot;</td><td>0.0</td><td>2.45</td><td>0.0</td><td>8.79</td><td>1507</td></tr><tr><td>&quot;HV0003&quot;</td><td>&quot;B03404&quot;</td><td>0.0</td><td>3.1</td><td>0.0</td><td>11.29</td><td>1387</td></tr><tr><td>&quot;HV0003&quot;</td><td>&quot;B03404&quot;</td><td>0.0</td><td>0.7</td><td>0.0</td><td>0.87</td><td>251</td></tr><tr><td>&hellip;</td><td>&hellip;</td><td>&hellip;</td><td>&hellip;</td><td>&hellip;</td><td>&hellip;</td><td>&hellip;</td></tr><tr><td>&quot;HV0003&quot;</td><td>&quot;B03404&quot;</td><td>0.0</td><td>1.48</td><td>0.0</td><td>1.0</td><td>413</td></tr><tr><td>&quot;HV0003&quot;</td><td>&quot;B03404&quot;</td><td>0.0</td><td>0.75</td><td>1.0</td><td>0.93</td><td>460</td></tr><tr><td>&quot;HV0005&quot;</td><td>&quot;B03406&quot;</td><td>26.69</td><td>0.0</td><td>39.55</td><td>25.79</td><td>2399</td></tr><tr><td>&quot;HV0003&quot;</td><td>&quot;B03404&quot;</td><td>0.0</td><td>3.05</td><td>0.0</td><td>11.97</td><td>2080</td></tr><tr><td>&quot;HV0003&quot;</td><td>&quot;B03404&quot;</td><td>0.0</td><td>1.83</td><td>0.0</td><td>1.6</td><td>749</td></tr><tr><td>&quot;HV0003&quot;</td><td>&quot;B03404&quot;</td><td>0.0</td><td>0.92</td><td>2.0</td><td>1.47</td><td>567</td></tr><tr><td>&quot;HV0003&quot;</td><td>&quot;B03404&quot;</td><td>0.0</td><td>2.48</td><td>0.0</td><td>5.57</td><td>1102</td></tr><tr><td>&quot;HV0003&quot;</td><td>&quot;B03404&quot;</td><td>6.55</td><td>2.21</td><td>0.0</td><td>3.74</td><td>785</td></tr><tr><td>&quot;HV0003&quot;</td><td>&quot;B03404&quot;</td><td>0.0</td><td>1.63</td><td>0.0</td><td>1.95</td><td>838</td></tr><tr><td>&quot;HV0003&quot;</td><td>&quot;B03404&quot;</td><td>0.0</td><td>1.72</td><td>0.0</td><td>2.0</td><td>511</td></tr><tr><td>&quot;HV0003&quot;</td><td>&quot;B03404&quot;</td><td>0.0</td><td>1.19</td><td>0.0</td><td>2.59</td><td>879</td></tr><tr><td>&quot;HV0005&quot;</td><td>&quot;B03406&quot;</td><td>0.0</td><td>1.01</td><td>8.0</td><td>1.843</td><td>617</td></tr></tbody></table></div>"
      ],
      "text/plain": [
       "shape: (49224422, 7)\n",
       "┌───────────────────┬──────────────────────┬───────┬───────────┬──────┬────────────┬───────────┐\n",
       "│ hvfhs_license_num ┆ dispatching_base_num ┆ tolls ┆ sales_tax ┆ tips ┆ trip_miles ┆ trip_time │\n",
       "│ ---               ┆ ---                  ┆ ---   ┆ ---       ┆ ---  ┆ ---        ┆ ---       │\n",
       "│ str               ┆ str                  ┆ f64   ┆ f64       ┆ f64  ┆ f64        ┆ i64       │\n",
       "╞═══════════════════╪══════════════════════╪═══════╪═══════════╪══════╪════════════╪═══════════╡\n",
       "│ HV0003            ┆ B03404               ┆ 0.0   ┆ 2.21      ┆ 0.0  ┆ 1.18       ┆ 664       │\n",
       "│ HV0003            ┆ B03404               ┆ 0.0   ┆ 1.06      ┆ 0.0  ┆ 0.82       ┆ 460       │\n",
       "│ HV0003            ┆ B03404               ┆ 0.0   ┆ 2.65      ┆ 0.0  ┆ 1.18       ┆ 595       │\n",
       "│ HV0003            ┆ B03404               ┆ 0.0   ┆ 0.7       ┆ 0.0  ┆ 1.65       ┆ 303       │\n",
       "│ …                 ┆ …                    ┆ …     ┆ …         ┆ …    ┆ …          ┆ …         │\n",
       "│ HV0003            ┆ B03404               ┆ 0.0   ┆ 1.63      ┆ 0.0  ┆ 1.95       ┆ 838       │\n",
       "│ HV0003            ┆ B03404               ┆ 0.0   ┆ 1.72      ┆ 0.0  ┆ 2.0        ┆ 511       │\n",
       "│ HV0003            ┆ B03404               ┆ 0.0   ┆ 1.19      ┆ 0.0  ┆ 2.59       ┆ 879       │\n",
       "│ HV0005            ┆ B03406               ┆ 0.0   ┆ 1.01      ┆ 8.0  ┆ 1.843      ┆ 617       │\n",
       "└───────────────────┴──────────────────────┴───────┴───────────┴──────┴────────────┴───────────┘"
      ]
     },
     "execution_count": 13,
     "metadata": {},
     "output_type": "execute_result"
    }
   ],
   "source": [
    "df = pl.read_ipc(\"data/fhvhv_data.arrow\")\n",
    "df2 = df.select('hvfhs_license_num', 'dispatching_base_num', 'tolls', 'sales_tax','tips', 'trip_miles', 'trip_time')\n",
    "df2"
   ]
  },
  {
   "cell_type": "code",
   "execution_count": 14,
   "metadata": {},
   "outputs": [
    {
     "data": {
      "text/html": [
       "<div><style>\n",
       ".dataframe > thead > tr > th,\n",
       ".dataframe > tbody > tr > td {\n",
       "  text-align: right;\n",
       "}\n",
       "</style>\n",
       "<small>shape: (2743234, 7)</small><table border=\"1\" class=\"dataframe\"><thead><tr><th>hvfhs_license_num</th><th>dispatching_base_num</th><th>tolls</th><th>sales_tax</th><th>tips</th><th>trip_miles</th><th>trip_time</th></tr><tr><td>str</td><td>str</td><td>f64</td><td>f64</td><td>f64</td><td>f64</td><td>i64</td></tr></thead><tbody><tr><td>&quot;HV0003&quot;</td><td>&quot;B03404&quot;</td><td>0.0</td><td>3.45</td><td>10.0</td><td>3.93</td><td>1389</td></tr><tr><td>&quot;HV0003&quot;</td><td>&quot;B03404&quot;</td><td>0.0</td><td>2.03</td><td>5.11</td><td>10.05</td><td>1362</td></tr><tr><td>&quot;HV0003&quot;</td><td>&quot;B03404&quot;</td><td>0.0</td><td>3.14</td><td>7.92</td><td>7.92</td><td>1506</td></tr><tr><td>&quot;HV0003&quot;</td><td>&quot;B03404&quot;</td><td>0.0</td><td>1.78</td><td>5.03</td><td>1.86</td><td>515</td></tr><tr><td>&quot;HV0003&quot;</td><td>&quot;B03404&quot;</td><td>0.0</td><td>2.73</td><td>5.1</td><td>5.07</td><td>2088</td></tr><tr><td>&quot;HV0003&quot;</td><td>&quot;B03404&quot;</td><td>0.0</td><td>0.76</td><td>10.0</td><td>0.96</td><td>407</td></tr><tr><td>&quot;HV0003&quot;</td><td>&quot;B03404&quot;</td><td>0.0</td><td>2.43</td><td>5.01</td><td>3.03</td><td>797</td></tr><tr><td>&quot;HV0003&quot;</td><td>&quot;B03404&quot;</td><td>6.55</td><td>2.83</td><td>9.62</td><td>8.29</td><td>1137</td></tr><tr><td>&quot;HV0005&quot;</td><td>&quot;B03406&quot;</td><td>4.44</td><td>3.26</td><td>8.77</td><td>13.445</td><td>2139</td></tr><tr><td>&quot;HV0003&quot;</td><td>&quot;B03404&quot;</td><td>0.0</td><td>0.78</td><td>10.0</td><td>1.82</td><td>591</td></tr><tr><td>&quot;HV0003&quot;</td><td>&quot;B03404&quot;</td><td>0.0</td><td>3.3</td><td>11.96</td><td>5.41</td><td>1035</td></tr><tr><td>&quot;HV0003&quot;</td><td>&quot;B03404&quot;</td><td>6.55</td><td>3.03</td><td>6.13</td><td>8.64</td><td>1168</td></tr><tr><td>&hellip;</td><td>&hellip;</td><td>&hellip;</td><td>&hellip;</td><td>&hellip;</td><td>&hellip;</td><td>&hellip;</td></tr><tr><td>&quot;HV0003&quot;</td><td>&quot;B03404&quot;</td><td>6.55</td><td>4.5</td><td>5.81</td><td>8.71</td><td>2619</td></tr><tr><td>&quot;HV0003&quot;</td><td>&quot;B03404&quot;</td><td>20.0</td><td>0.0</td><td>5.19</td><td>4.79</td><td>952</td></tr><tr><td>&quot;HV0005&quot;</td><td>&quot;B03406&quot;</td><td>5.84</td><td>2.79</td><td>5.68</td><td>6.312</td><td>1640</td></tr><tr><td>&quot;HV0003&quot;</td><td>&quot;B03404&quot;</td><td>0.0</td><td>2.9</td><td>7.86</td><td>3.31</td><td>864</td></tr><tr><td>&quot;HV0003&quot;</td><td>&quot;B03404&quot;</td><td>0.0</td><td>2.44</td><td>5.03</td><td>2.88</td><td>959</td></tr><tr><td>&quot;HV0003&quot;</td><td>&quot;B03404&quot;</td><td>6.55</td><td>4.99</td><td>12.46</td><td>9.84</td><td>2547</td></tr><tr><td>&quot;HV0003&quot;</td><td>&quot;B03404&quot;</td><td>0.0</td><td>4.09</td><td>10.3</td><td>19.04</td><td>1795</td></tr><tr><td>&quot;HV0005&quot;</td><td>&quot;B03406&quot;</td><td>0.0</td><td>2.63</td><td>7.17</td><td>2.442</td><td>651</td></tr><tr><td>&quot;HV0005&quot;</td><td>&quot;B03406&quot;</td><td>4.37</td><td>6.11</td><td>12.0</td><td>9.114</td><td>2907</td></tr><tr><td>&quot;HV0005&quot;</td><td>&quot;B03406&quot;</td><td>0.0</td><td>4.13</td><td>10.97</td><td>8.223</td><td>1240</td></tr><tr><td>&quot;HV0005&quot;</td><td>&quot;B03406&quot;</td><td>26.69</td><td>0.0</td><td>39.55</td><td>25.79</td><td>2399</td></tr><tr><td>&quot;HV0005&quot;</td><td>&quot;B03406&quot;</td><td>0.0</td><td>1.01</td><td>8.0</td><td>1.843</td><td>617</td></tr></tbody></table></div>"
      ],
      "text/plain": [
       "shape: (2743234, 7)\n",
       "┌───────────────────┬──────────────────────┬───────┬───────────┬───────┬────────────┬───────────┐\n",
       "│ hvfhs_license_num ┆ dispatching_base_num ┆ tolls ┆ sales_tax ┆ tips  ┆ trip_miles ┆ trip_time │\n",
       "│ ---               ┆ ---                  ┆ ---   ┆ ---       ┆ ---   ┆ ---        ┆ ---       │\n",
       "│ str               ┆ str                  ┆ f64   ┆ f64       ┆ f64   ┆ f64        ┆ i64       │\n",
       "╞═══════════════════╪══════════════════════╪═══════╪═══════════╪═══════╪════════════╪═══════════╡\n",
       "│ HV0003            ┆ B03404               ┆ 0.0   ┆ 3.45      ┆ 10.0  ┆ 3.93       ┆ 1389      │\n",
       "│ HV0003            ┆ B03404               ┆ 0.0   ┆ 2.03      ┆ 5.11  ┆ 10.05      ┆ 1362      │\n",
       "│ HV0003            ┆ B03404               ┆ 0.0   ┆ 3.14      ┆ 7.92  ┆ 7.92       ┆ 1506      │\n",
       "│ HV0003            ┆ B03404               ┆ 0.0   ┆ 1.78      ┆ 5.03  ┆ 1.86       ┆ 515       │\n",
       "│ …                 ┆ …                    ┆ …     ┆ …         ┆ …     ┆ …          ┆ …         │\n",
       "│ HV0005            ┆ B03406               ┆ 4.37  ┆ 6.11      ┆ 12.0  ┆ 9.114      ┆ 2907      │\n",
       "│ HV0005            ┆ B03406               ┆ 0.0   ┆ 4.13      ┆ 10.97 ┆ 8.223      ┆ 1240      │\n",
       "│ HV0005            ┆ B03406               ┆ 26.69 ┆ 0.0       ┆ 39.55 ┆ 25.79      ┆ 2399      │\n",
       "│ HV0005            ┆ B03406               ┆ 0.0   ┆ 1.01      ┆ 8.0   ┆ 1.843      ┆ 617       │\n",
       "└───────────────────┴──────────────────────┴───────┴───────────┴───────┴────────────┴───────────┘"
      ]
     },
     "execution_count": 14,
     "metadata": {},
     "output_type": "execute_result"
    }
   ],
   "source": [
    "df2.filter(pl.col('tips') > 5)"
   ]
  },
  {
   "cell_type": "code",
   "execution_count": 15,
   "metadata": {},
   "outputs": [
    {
     "data": {
      "text/html": [
       "<div><style>\n",
       ".dataframe > thead > tr > th,\n",
       ".dataframe > tbody > tr > td {\n",
       "  text-align: right;\n",
       "}\n",
       "</style>\n",
       "<small>shape: (49224422, 8)</small><table border=\"1\" class=\"dataframe\"><thead><tr><th>hvfhs_license_num</th><th>dispatching_base_num</th><th>tolls</th><th>sales_tax</th><th>tips</th><th>trip_miles</th><th>trip_time</th><th>rounded_miles</th></tr><tr><td>str</td><td>str</td><td>f64</td><td>f64</td><td>f64</td><td>f64</td><td>i64</td><td>f64</td></tr></thead><tbody><tr><td>&quot;HV0003&quot;</td><td>&quot;B03404&quot;</td><td>0.0</td><td>2.21</td><td>0.0</td><td>1.18</td><td>664</td><td>1.2</td></tr><tr><td>&quot;HV0003&quot;</td><td>&quot;B03404&quot;</td><td>0.0</td><td>1.06</td><td>0.0</td><td>0.82</td><td>460</td><td>0.8</td></tr><tr><td>&quot;HV0003&quot;</td><td>&quot;B03404&quot;</td><td>0.0</td><td>2.65</td><td>0.0</td><td>1.18</td><td>595</td><td>1.2</td></tr><tr><td>&quot;HV0003&quot;</td><td>&quot;B03404&quot;</td><td>0.0</td><td>0.7</td><td>0.0</td><td>1.65</td><td>303</td><td>1.7</td></tr><tr><td>&quot;HV0003&quot;</td><td>&quot;B03404&quot;</td><td>0.0</td><td>0.84</td><td>0.0</td><td>1.65</td><td>461</td><td>1.7</td></tr><tr><td>&quot;HV0003&quot;</td><td>&quot;B03404&quot;</td><td>0.0</td><td>1.57</td><td>0.0</td><td>4.51</td><td>762</td><td>4.5</td></tr><tr><td>&quot;HV0003&quot;</td><td>&quot;B03404&quot;</td><td>0.0</td><td>1.48</td><td>0.0</td><td>3.68</td><td>931</td><td>3.7</td></tr><tr><td>&quot;HV0003&quot;</td><td>&quot;B03404&quot;</td><td>0.0</td><td>1.28</td><td>4.0</td><td>2.77</td><td>843</td><td>2.8</td></tr><tr><td>&quot;HV0003&quot;</td><td>&quot;B03404&quot;</td><td>0.0</td><td>0.94</td><td>0.0</td><td>2.04</td><td>710</td><td>2.0</td></tr><tr><td>&quot;HV0003&quot;</td><td>&quot;B03404&quot;</td><td>0.0</td><td>2.45</td><td>0.0</td><td>8.79</td><td>1507</td><td>8.8</td></tr><tr><td>&quot;HV0003&quot;</td><td>&quot;B03404&quot;</td><td>0.0</td><td>3.1</td><td>0.0</td><td>11.29</td><td>1387</td><td>11.3</td></tr><tr><td>&quot;HV0003&quot;</td><td>&quot;B03404&quot;</td><td>0.0</td><td>0.7</td><td>0.0</td><td>0.87</td><td>251</td><td>0.9</td></tr><tr><td>&hellip;</td><td>&hellip;</td><td>&hellip;</td><td>&hellip;</td><td>&hellip;</td><td>&hellip;</td><td>&hellip;</td><td>&hellip;</td></tr><tr><td>&quot;HV0003&quot;</td><td>&quot;B03404&quot;</td><td>0.0</td><td>1.48</td><td>0.0</td><td>1.0</td><td>413</td><td>1.0</td></tr><tr><td>&quot;HV0003&quot;</td><td>&quot;B03404&quot;</td><td>0.0</td><td>0.75</td><td>1.0</td><td>0.93</td><td>460</td><td>0.9</td></tr><tr><td>&quot;HV0005&quot;</td><td>&quot;B03406&quot;</td><td>26.69</td><td>0.0</td><td>39.55</td><td>25.79</td><td>2399</td><td>25.8</td></tr><tr><td>&quot;HV0003&quot;</td><td>&quot;B03404&quot;</td><td>0.0</td><td>3.05</td><td>0.0</td><td>11.97</td><td>2080</td><td>12.0</td></tr><tr><td>&quot;HV0003&quot;</td><td>&quot;B03404&quot;</td><td>0.0</td><td>1.83</td><td>0.0</td><td>1.6</td><td>749</td><td>1.6</td></tr><tr><td>&quot;HV0003&quot;</td><td>&quot;B03404&quot;</td><td>0.0</td><td>0.92</td><td>2.0</td><td>1.47</td><td>567</td><td>1.5</td></tr><tr><td>&quot;HV0003&quot;</td><td>&quot;B03404&quot;</td><td>0.0</td><td>2.48</td><td>0.0</td><td>5.57</td><td>1102</td><td>5.6</td></tr><tr><td>&quot;HV0003&quot;</td><td>&quot;B03404&quot;</td><td>6.55</td><td>2.21</td><td>0.0</td><td>3.74</td><td>785</td><td>3.7</td></tr><tr><td>&quot;HV0003&quot;</td><td>&quot;B03404&quot;</td><td>0.0</td><td>1.63</td><td>0.0</td><td>1.95</td><td>838</td><td>2.0</td></tr><tr><td>&quot;HV0003&quot;</td><td>&quot;B03404&quot;</td><td>0.0</td><td>1.72</td><td>0.0</td><td>2.0</td><td>511</td><td>2.0</td></tr><tr><td>&quot;HV0003&quot;</td><td>&quot;B03404&quot;</td><td>0.0</td><td>1.19</td><td>0.0</td><td>2.59</td><td>879</td><td>2.6</td></tr><tr><td>&quot;HV0005&quot;</td><td>&quot;B03406&quot;</td><td>0.0</td><td>1.01</td><td>8.0</td><td>1.843</td><td>617</td><td>1.8</td></tr></tbody></table></div>"
      ],
      "text/plain": [
       "shape: (49224422, 8)\n",
       "┌───────────────┬───────────────┬───────┬───────────┬──────┬────────────┬───────────┬──────────────┐\n",
       "│ hvfhs_license ┆ dispatching_b ┆ tolls ┆ sales_tax ┆ tips ┆ trip_miles ┆ trip_time ┆ rounded_mile │\n",
       "│ _num          ┆ ase_num       ┆ ---   ┆ ---       ┆ ---  ┆ ---        ┆ ---       ┆ s            │\n",
       "│ ---           ┆ ---           ┆ f64   ┆ f64       ┆ f64  ┆ f64        ┆ i64       ┆ ---          │\n",
       "│ str           ┆ str           ┆       ┆           ┆      ┆            ┆           ┆ f64          │\n",
       "╞═══════════════╪═══════════════╪═══════╪═══════════╪══════╪════════════╪═══════════╪══════════════╡\n",
       "│ HV0003        ┆ B03404        ┆ 0.0   ┆ 2.21      ┆ 0.0  ┆ 1.18       ┆ 664       ┆ 1.2          │\n",
       "│ HV0003        ┆ B03404        ┆ 0.0   ┆ 1.06      ┆ 0.0  ┆ 0.82       ┆ 460       ┆ 0.8          │\n",
       "│ HV0003        ┆ B03404        ┆ 0.0   ┆ 2.65      ┆ 0.0  ┆ 1.18       ┆ 595       ┆ 1.2          │\n",
       "│ HV0003        ┆ B03404        ┆ 0.0   ┆ 0.7       ┆ 0.0  ┆ 1.65       ┆ 303       ┆ 1.7          │\n",
       "│ …             ┆ …             ┆ …     ┆ …         ┆ …    ┆ …          ┆ …         ┆ …            │\n",
       "│ HV0003        ┆ B03404        ┆ 0.0   ┆ 1.63      ┆ 0.0  ┆ 1.95       ┆ 838       ┆ 2.0          │\n",
       "│ HV0003        ┆ B03404        ┆ 0.0   ┆ 1.72      ┆ 0.0  ┆ 2.0        ┆ 511       ┆ 2.0          │\n",
       "│ HV0003        ┆ B03404        ┆ 0.0   ┆ 1.19      ┆ 0.0  ┆ 2.59       ┆ 879       ┆ 2.6          │\n",
       "│ HV0005        ┆ B03406        ┆ 0.0   ┆ 1.01      ┆ 8.0  ┆ 1.843      ┆ 617       ┆ 1.8          │\n",
       "└───────────────┴───────────────┴───────┴───────────┴──────┴────────────┴───────────┴──────────────┘"
      ]
     },
     "execution_count": 15,
     "metadata": {},
     "output_type": "execute_result"
    }
   ],
   "source": [
    "df2.with_columns(pl.col(\"trip_miles\").round(1).alias(\"rounded_miles\"))"
   ]
  },
  {
   "cell_type": "code",
   "execution_count": 21,
   "metadata": {},
   "outputs": [
    {
     "data": {
      "text/html": [
       "<div><style>\n",
       ".dataframe > thead > tr > th,\n",
       ".dataframe > tbody > tr > td {\n",
       "  text-align: right;\n",
       "}\n",
       "</style>\n",
       "<small>shape: (10684, 3)</small><table border=\"1\" class=\"dataframe\"><thead><tr><th>rounded_miles</th><th>rounded_time</th><th>count</th></tr><tr><td>f64</td><td>f64</td><td>u32</td></tr></thead><tbody><tr><td>95.0</td><td>8300.0</td><td>3</td></tr><tr><td>96.0</td><td>12300.0</td><td>1</td></tr><tr><td>114.0</td><td>9300.0</td><td>1</td></tr><tr><td>122.0</td><td>10400.0</td><td>1</td></tr><tr><td>91.0</td><td>13200.0</td><td>1</td></tr><tr><td>46.0</td><td>10900.0</td><td>2</td></tr><tr><td>51.0</td><td>8400.0</td><td>1</td></tr><tr><td>8.0</td><td>22200.0</td><td>1</td></tr><tr><td>56.0</td><td>8500.0</td><td>2</td></tr><tr><td>67.0</td><td>5600.0</td><td>25</td></tr><tr><td>40.0</td><td>7800.0</td><td>4</td></tr><tr><td>11.0</td><td>9500.0</td><td>3</td></tr><tr><td>&hellip;</td><td>&hellip;</td><td>&hellip;</td></tr><tr><td>33.0</td><td>9100.0</td><td>2</td></tr><tr><td>211.0</td><td>12400.0</td><td>1</td></tr><tr><td>79.0</td><td>6200.0</td><td>11</td></tr><tr><td>3.0</td><td>13800.0</td><td>1</td></tr><tr><td>104.0</td><td>7200.0</td><td>4</td></tr><tr><td>78.0</td><td>6700.0</td><td>4</td></tr><tr><td>15.0</td><td>5800.0</td><td>100</td></tr><tr><td>8.0</td><td>10300.0</td><td>2</td></tr><tr><td>83.0</td><td>9300.0</td><td>1</td></tr><tr><td>6.0</td><td>7300.0</td><td>4</td></tr><tr><td>357.0</td><td>26200.0</td><td>1</td></tr><tr><td>146.0</td><td>29900.0</td><td>1</td></tr></tbody></table></div>"
      ],
      "text/plain": [
       "shape: (10684, 3)\n",
       "┌───────────────┬──────────────┬───────┐\n",
       "│ rounded_miles ┆ rounded_time ┆ count │\n",
       "│ ---           ┆ ---          ┆ ---   │\n",
       "│ f64           ┆ f64          ┆ u32   │\n",
       "╞═══════════════╪══════════════╪═══════╡\n",
       "│ 95.0          ┆ 8300.0       ┆ 3     │\n",
       "│ 96.0          ┆ 12300.0      ┆ 1     │\n",
       "│ 114.0         ┆ 9300.0       ┆ 1     │\n",
       "│ 122.0         ┆ 10400.0      ┆ 1     │\n",
       "│ …             ┆ …            ┆ …     │\n",
       "│ 83.0          ┆ 9300.0       ┆ 1     │\n",
       "│ 6.0           ┆ 7300.0       ┆ 4     │\n",
       "│ 357.0         ┆ 26200.0      ┆ 1     │\n",
       "│ 146.0         ┆ 29900.0      ┆ 1     │\n",
       "└───────────────┴──────────────┴───────┘"
      ]
     },
     "execution_count": 21,
     "metadata": {},
     "output_type": "execute_result"
    }
   ],
   "source": [
    "df.select('hvfhs_license_num', 'dispatching_base_num', 'tolls', 'sales_tax','tips', 'trip_miles', 'trip_time').with_columns(\n",
    "            [\n",
    "                pl.col(\"trip_miles\")\n",
    "                .round(0)\n",
    "                .alias(\"rounded_miles\"),\n",
    "                pl.col(\"trip_time\")\n",
    "                .apply(lambda x: round(x / 100, 0) * 100)\n",
    "                .alias(\"rounded_time\"),\n",
    "            ]\n",
    "        ).groupby([\"rounded_miles\", \"rounded_time\"]).count()"
   ]
  },
  {
   "cell_type": "code",
   "execution_count": 22,
   "metadata": {},
   "outputs": [
    {
     "data": {
      "text/html": [
       "<div><style>\n",
       ".dataframe > thead > tr > th,\n",
       ".dataframe > tbody > tr > td {\n",
       "  text-align: right;\n",
       "}\n",
       "</style>\n",
       "<small>shape: (10684, 3)</small><table border=\"1\" class=\"dataframe\"><thead><tr><th>rounded_miles</th><th>rounded_time</th><th>count</th></tr><tr><td>f64</td><td>f64</td><td>u32</td></tr></thead><tbody><tr><td>95.0</td><td>8300.0</td><td>3</td></tr><tr><td>96.0</td><td>12300.0</td><td>1</td></tr><tr><td>114.0</td><td>9300.0</td><td>1</td></tr><tr><td>122.0</td><td>10400.0</td><td>1</td></tr><tr><td>91.0</td><td>13200.0</td><td>1</td></tr><tr><td>46.0</td><td>10900.0</td><td>2</td></tr><tr><td>51.0</td><td>8400.0</td><td>1</td></tr><tr><td>8.0</td><td>22200.0</td><td>1</td></tr><tr><td>56.0</td><td>8500.0</td><td>2</td></tr><tr><td>67.0</td><td>5600.0</td><td>25</td></tr><tr><td>40.0</td><td>7800.0</td><td>4</td></tr><tr><td>11.0</td><td>9500.0</td><td>3</td></tr><tr><td>&hellip;</td><td>&hellip;</td><td>&hellip;</td></tr><tr><td>33.0</td><td>9100.0</td><td>2</td></tr><tr><td>211.0</td><td>12400.0</td><td>1</td></tr><tr><td>79.0</td><td>6200.0</td><td>11</td></tr><tr><td>3.0</td><td>13800.0</td><td>1</td></tr><tr><td>104.0</td><td>7200.0</td><td>4</td></tr><tr><td>78.0</td><td>6700.0</td><td>4</td></tr><tr><td>15.0</td><td>5800.0</td><td>100</td></tr><tr><td>8.0</td><td>10300.0</td><td>2</td></tr><tr><td>83.0</td><td>9300.0</td><td>1</td></tr><tr><td>6.0</td><td>7300.0</td><td>4</td></tr><tr><td>357.0</td><td>26200.0</td><td>1</td></tr><tr><td>146.0</td><td>29900.0</td><td>1</td></tr></tbody></table></div>"
      ],
      "text/plain": [
       "shape: (10684, 3)\n",
       "┌───────────────┬──────────────┬───────┐\n",
       "│ rounded_miles ┆ rounded_time ┆ count │\n",
       "│ ---           ┆ ---          ┆ ---   │\n",
       "│ f64           ┆ f64          ┆ u32   │\n",
       "╞═══════════════╪══════════════╪═══════╡\n",
       "│ 95.0          ┆ 8300.0       ┆ 3     │\n",
       "│ 96.0          ┆ 12300.0      ┆ 1     │\n",
       "│ 114.0         ┆ 9300.0       ┆ 1     │\n",
       "│ 122.0         ┆ 10400.0      ┆ 1     │\n",
       "│ …             ┆ …            ┆ …     │\n",
       "│ 83.0          ┆ 9300.0       ┆ 1     │\n",
       "│ 6.0           ┆ 7300.0       ┆ 4     │\n",
       "│ 357.0         ┆ 26200.0      ┆ 1     │\n",
       "│ 146.0         ┆ 29900.0      ┆ 1     │\n",
       "└───────────────┴──────────────┴───────┘"
      ]
     },
     "execution_count": 22,
     "metadata": {},
     "output_type": "execute_result"
    }
   ],
   "source": [
    "ldf = pl.scan_ipc(\"data/fhvhv_data.arrow\")\n",
    "ldf.select('hvfhs_license_num', 'dispatching_base_num', 'tolls', 'sales_tax','tips', 'trip_miles', 'trip_time').with_columns(\n",
    "            [\n",
    "                pl.col(\"trip_miles\")\n",
    "                .round(0)\n",
    "                .alias(\"rounded_miles\"),\n",
    "                pl.col(\"trip_time\")\n",
    "                .apply(lambda x: round(x / 100, 0) * 100)\n",
    "                .alias(\"rounded_time\"),\n",
    "            ]\n",
    "        ).groupby([\"rounded_miles\", \"rounded_time\"]).count().collect()"
   ]
  },
  {
   "cell_type": "code",
   "execution_count": 5,
   "metadata": {},
   "outputs": [
    {
     "data": {
      "text/html": [
       "<div><style>\n",
       ".dataframe > thead > tr > th,\n",
       ".dataframe > tbody > tr > td {\n",
       "  text-align: right;\n",
       "}\n",
       "</style>\n",
       "<small>shape: (500, 2)</small><table border=\"1\" class=\"dataframe\"><thead><tr><th>tips</th><th>driver_pay</th></tr><tr><td>f64</td><td>f64</td></tr></thead><tbody><tr><td>0.0</td><td>23.03</td></tr><tr><td>0.0</td><td>12.32</td></tr><tr><td>0.0</td><td>23.3</td></tr><tr><td>0.0</td><td>6.3</td></tr><tr><td>0.0</td><td>7.44</td></tr><tr><td>0.0</td><td>12.25</td></tr><tr><td>0.0</td><td>12.75</td></tr><tr><td>4.0</td><td>11.47</td></tr><tr><td>0.0</td><td>9.55</td></tr><tr><td>0.0</td><td>23.67</td></tr><tr><td>0.0</td><td>25.17</td></tr><tr><td>0.0</td><td>6.51</td></tr><tr><td>&hellip;</td><td>&hellip;</td></tr><tr><td>0.0</td><td>9.44</td></tr><tr><td>0.0</td><td>6.89</td></tr><tr><td>0.0</td><td>12.36</td></tr><tr><td>0.0</td><td>11.48</td></tr><tr><td>0.0</td><td>8.18</td></tr><tr><td>3.0</td><td>15.19</td></tr><tr><td>0.0</td><td>24.15</td></tr><tr><td>0.0</td><td>14.86</td></tr><tr><td>0.0</td><td>32.99</td></tr><tr><td>0.0</td><td>7.22</td></tr><tr><td>7.89</td><td>24.12</td></tr><tr><td>5.22</td><td>21.7</td></tr></tbody></table></div>"
      ],
      "text/plain": [
       "shape: (500, 2)\n",
       "┌──────┬────────────┐\n",
       "│ tips ┆ driver_pay │\n",
       "│ ---  ┆ ---        │\n",
       "│ f64  ┆ f64        │\n",
       "╞══════╪════════════╡\n",
       "│ 0.0  ┆ 23.03      │\n",
       "│ 0.0  ┆ 12.32      │\n",
       "│ 0.0  ┆ 23.3       │\n",
       "│ 0.0  ┆ 6.3        │\n",
       "│ …    ┆ …          │\n",
       "│ 0.0  ┆ 32.99      │\n",
       "│ 0.0  ┆ 7.22       │\n",
       "│ 7.89 ┆ 24.12      │\n",
       "│ 5.22 ┆ 21.7       │\n",
       "└──────┴────────────┘"
      ]
     },
     "execution_count": 5,
     "metadata": {},
     "output_type": "execute_result"
    }
   ],
   "source": [
    "ldf.select([pl.col(\"tips\"), pl.col(\"driver_pay\")]).fetch()"
   ]
  }
 ],
 "metadata": {
  "kernelspec": {
   "display_name": "polars-app",
   "language": "python",
   "name": "python3"
  },
  "language_info": {
   "codemirror_mode": {
    "name": "ipython",
    "version": 3
   },
   "file_extension": ".py",
   "mimetype": "text/x-python",
   "name": "python",
   "nbconvert_exporter": "python",
   "pygments_lexer": "ipython3",
   "version": "3.9.16"
  },
  "orig_nbformat": 4
 },
 "nbformat": 4,
 "nbformat_minor": 2
}
