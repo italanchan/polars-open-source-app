{
 "cells": [
  {
   "attachments": {},
   "cell_type": "markdown",
   "metadata": {},
   "source": [
    "# Intro to Polars with NYC taxi data\n",
    "Let's go over the basics of using the Polars python API"
   ]
  },
  {
   "cell_type": "code",
   "execution_count": 5,
   "metadata": {},
   "outputs": [],
   "source": [
    "import polars as pl"
   ]
  },
  {
   "attachments": {},
   "cell_type": "markdown",
   "metadata": {},
   "source": [
    "## Parquet vs Arrow\n",
    "Reading in a parquet or any other file that requires convertion will always be slower than directly reading from an arrow file. Note the run times of these code blocks."
   ]
  },
  {
   "cell_type": "code",
   "execution_count": 3,
   "metadata": {},
   "outputs": [],
   "source": [
    "df = pl.read_parquet(\"data/fhvhv_tripdata_2023-01.parquet\")"
   ]
  },
  {
   "cell_type": "code",
   "execution_count": 4,
   "metadata": {},
   "outputs": [],
   "source": [
    "df.write_ipc(\"data/fhvhv_data.arrow\")"
   ]
  },
  {
   "cell_type": "code",
   "execution_count": 5,
   "metadata": {},
   "outputs": [],
   "source": [
    "df = pl.read_ipc(\"data/fhvhv_data.arrow\")\n"
   ]
  },
  {
   "attachments": {},
   "cell_type": "markdown",
   "metadata": {},
   "source": [
    "## Polars expressions and data manipulation"
   ]
  },
  {
   "attachments": {},
   "cell_type": "markdown",
   "metadata": {},
   "source": [
    "### Select\n",
    "The select method is very straigth forwar you can pass names of columns, or list of olars column objects and select a subset of the dataframe."
   ]
  },
  {
   "cell_type": "code",
   "execution_count": 6,
   "metadata": {},
   "outputs": [
    {
     "data": {
      "text/html": [
       "<div><style>\n",
       ".dataframe > thead > tr > th,\n",
       ".dataframe > tbody > tr > td {\n",
       "  text-align: right;\n",
       "}\n",
       "</style>\n",
       "<small>shape: (5, 7)</small><table border=\"1\" class=\"dataframe\"><thead><tr><th>hvfhs_license_num</th><th>dispatching_base_num</th><th>tolls</th><th>sales_tax</th><th>tips</th><th>trip_miles</th><th>trip_time</th></tr><tr><td>str</td><td>str</td><td>f64</td><td>f64</td><td>f64</td><td>f64</td><td>i64</td></tr></thead><tbody><tr><td>&quot;HV0003&quot;</td><td>&quot;B03404&quot;</td><td>0.0</td><td>2.21</td><td>0.0</td><td>1.18</td><td>664</td></tr><tr><td>&quot;HV0003&quot;</td><td>&quot;B03404&quot;</td><td>0.0</td><td>1.06</td><td>0.0</td><td>0.82</td><td>460</td></tr><tr><td>&quot;HV0003&quot;</td><td>&quot;B03404&quot;</td><td>0.0</td><td>2.65</td><td>0.0</td><td>1.18</td><td>595</td></tr><tr><td>&quot;HV0003&quot;</td><td>&quot;B03404&quot;</td><td>0.0</td><td>0.7</td><td>0.0</td><td>1.65</td><td>303</td></tr><tr><td>&quot;HV0003&quot;</td><td>&quot;B03404&quot;</td><td>0.0</td><td>0.84</td><td>0.0</td><td>1.65</td><td>461</td></tr></tbody></table></div>"
      ],
      "text/plain": [
       "shape: (5, 7)\n",
       "┌───────────────────┬──────────────────────┬───────┬───────────┬──────┬────────────┬───────────┐\n",
       "│ hvfhs_license_num ┆ dispatching_base_num ┆ tolls ┆ sales_tax ┆ tips ┆ trip_miles ┆ trip_time │\n",
       "│ ---               ┆ ---                  ┆ ---   ┆ ---       ┆ ---  ┆ ---        ┆ ---       │\n",
       "│ str               ┆ str                  ┆ f64   ┆ f64       ┆ f64  ┆ f64        ┆ i64       │\n",
       "╞═══════════════════╪══════════════════════╪═══════╪═══════════╪══════╪════════════╪═══════════╡\n",
       "│ HV0003            ┆ B03404               ┆ 0.0   ┆ 2.21      ┆ 0.0  ┆ 1.18       ┆ 664       │\n",
       "│ HV0003            ┆ B03404               ┆ 0.0   ┆ 1.06      ┆ 0.0  ┆ 0.82       ┆ 460       │\n",
       "│ HV0003            ┆ B03404               ┆ 0.0   ┆ 2.65      ┆ 0.0  ┆ 1.18       ┆ 595       │\n",
       "│ HV0003            ┆ B03404               ┆ 0.0   ┆ 0.7       ┆ 0.0  ┆ 1.65       ┆ 303       │\n",
       "│ HV0003            ┆ B03404               ┆ 0.0   ┆ 0.84      ┆ 0.0  ┆ 1.65       ┆ 461       │\n",
       "└───────────────────┴──────────────────────┴───────┴───────────┴──────┴────────────┴───────────┘"
      ]
     },
     "execution_count": 6,
     "metadata": {},
     "output_type": "execute_result"
    }
   ],
   "source": [
    "df2 = df.select('hvfhs_license_num', 'dispatching_base_num', 'tolls', 'sales_tax','tips', 'trip_miles', 'trip_time')\n",
    "df2.head()"
   ]
  },
  {
   "cell_type": "code",
   "execution_count": 7,
   "metadata": {},
   "outputs": [
    {
     "data": {
      "text/html": [
       "<div><style>\n",
       ".dataframe > thead > tr > th,\n",
       ".dataframe > tbody > tr > td {\n",
       "  text-align: right;\n",
       "}\n",
       "</style>\n",
       "<small>shape: (5, 2)</small><table border=\"1\" class=\"dataframe\"><thead><tr><th>tolls</th><th>tips</th></tr><tr><td>f64</td><td>f64</td></tr></thead><tbody><tr><td>0.0</td><td>0.0</td></tr><tr><td>0.0</td><td>0.0</td></tr><tr><td>0.0</td><td>0.0</td></tr><tr><td>0.0</td><td>0.0</td></tr><tr><td>0.0</td><td>0.0</td></tr></tbody></table></div>"
      ],
      "text/plain": [
       "shape: (5, 2)\n",
       "┌───────┬──────┐\n",
       "│ tolls ┆ tips │\n",
       "│ ---   ┆ ---  │\n",
       "│ f64   ┆ f64  │\n",
       "╞═══════╪══════╡\n",
       "│ 0.0   ┆ 0.0  │\n",
       "│ 0.0   ┆ 0.0  │\n",
       "│ 0.0   ┆ 0.0  │\n",
       "│ 0.0   ┆ 0.0  │\n",
       "│ 0.0   ┆ 0.0  │\n",
       "└───────┴──────┘"
      ]
     },
     "execution_count": 7,
     "metadata": {},
     "output_type": "execute_result"
    }
   ],
   "source": [
    "df3 = df.select(pl.col('tolls'), pl.col('tips'))\n",
    "df3.head()"
   ]
  },
  {
   "attachments": {},
   "cell_type": "markdown",
   "metadata": {},
   "source": [
    "### Filter\n",
    "You can filter a polars dataframe on an predicate expression."
   ]
  },
  {
   "cell_type": "code",
   "execution_count": 6,
   "metadata": {},
   "outputs": [
    {
     "data": {
      "text/html": [
       "<div><style>\n",
       ".dataframe > thead > tr > th,\n",
       ".dataframe > tbody > tr > td {\n",
       "  text-align: right;\n",
       "}\n",
       "</style>\n",
       "<small>shape: (5, 7)</small><table border=\"1\" class=\"dataframe\"><thead><tr><th>hvfhs_license_num</th><th>dispatching_base_num</th><th>tolls</th><th>sales_tax</th><th>tips</th><th>trip_miles</th><th>trip_time</th></tr><tr><td>str</td><td>str</td><td>f64</td><td>f64</td><td>f64</td><td>f64</td><td>i64</td></tr></thead><tbody><tr><td>&quot;HV0003&quot;</td><td>&quot;B03404&quot;</td><td>0.0</td><td>3.45</td><td>10.0</td><td>3.93</td><td>1389</td></tr><tr><td>&quot;HV0003&quot;</td><td>&quot;B03404&quot;</td><td>0.0</td><td>2.03</td><td>5.11</td><td>10.05</td><td>1362</td></tr><tr><td>&quot;HV0003&quot;</td><td>&quot;B03404&quot;</td><td>0.0</td><td>3.14</td><td>7.92</td><td>7.92</td><td>1506</td></tr><tr><td>&quot;HV0003&quot;</td><td>&quot;B03404&quot;</td><td>0.0</td><td>1.78</td><td>5.03</td><td>1.86</td><td>515</td></tr><tr><td>&quot;HV0003&quot;</td><td>&quot;B03404&quot;</td><td>0.0</td><td>2.73</td><td>5.1</td><td>5.07</td><td>2088</td></tr></tbody></table></div>"
      ],
      "text/plain": [
       "shape: (5, 7)\n",
       "┌───────────────────┬──────────────────────┬───────┬───────────┬──────┬────────────┬───────────┐\n",
       "│ hvfhs_license_num ┆ dispatching_base_num ┆ tolls ┆ sales_tax ┆ tips ┆ trip_miles ┆ trip_time │\n",
       "│ ---               ┆ ---                  ┆ ---   ┆ ---       ┆ ---  ┆ ---        ┆ ---       │\n",
       "│ str               ┆ str                  ┆ f64   ┆ f64       ┆ f64  ┆ f64        ┆ i64       │\n",
       "╞═══════════════════╪══════════════════════╪═══════╪═══════════╪══════╪════════════╪═══════════╡\n",
       "│ HV0003            ┆ B03404               ┆ 0.0   ┆ 3.45      ┆ 10.0 ┆ 3.93       ┆ 1389      │\n",
       "│ HV0003            ┆ B03404               ┆ 0.0   ┆ 2.03      ┆ 5.11 ┆ 10.05      ┆ 1362      │\n",
       "│ HV0003            ┆ B03404               ┆ 0.0   ┆ 3.14      ┆ 7.92 ┆ 7.92       ┆ 1506      │\n",
       "│ HV0003            ┆ B03404               ┆ 0.0   ┆ 1.78      ┆ 5.03 ┆ 1.86       ┆ 515       │\n",
       "│ HV0003            ┆ B03404               ┆ 0.0   ┆ 2.73      ┆ 5.1  ┆ 5.07       ┆ 2088      │\n",
       "└───────────────────┴──────────────────────┴───────┴───────────┴──────┴────────────┴───────────┘"
      ]
     },
     "execution_count": 6,
     "metadata": {},
     "output_type": "execute_result"
    }
   ],
   "source": [
    "df2.filter(pl.col('tips') > 5).head()"
   ]
  },
  {
   "cell_type": "code",
   "execution_count": 10,
   "metadata": {},
   "outputs": [
    {
     "data": {
      "text/html": [
       "<div><style>\n",
       ".dataframe > thead > tr > th,\n",
       ".dataframe > tbody > tr > td {\n",
       "  text-align: right;\n",
       "}\n",
       "</style>\n",
       "<small>shape: (5, 2)</small><table border=\"1\" class=\"dataframe\"><thead><tr><th>tolls</th><th>tips</th></tr><tr><td>f64</td><td>f64</td></tr></thead><tbody><tr><td>0.18</td><td>2.0</td></tr><tr><td>6.55</td><td>9.62</td></tr><tr><td>4.44</td><td>8.77</td></tr><tr><td>6.55</td><td>4.96</td></tr><tr><td>6.55</td><td>6.13</td></tr></tbody></table></div>"
      ],
      "text/plain": [
       "shape: (5, 2)\n",
       "┌───────┬──────┐\n",
       "│ tolls ┆ tips │\n",
       "│ ---   ┆ ---  │\n",
       "│ f64   ┆ f64  │\n",
       "╞═══════╪══════╡\n",
       "│ 0.18  ┆ 2.0  │\n",
       "│ 6.55  ┆ 9.62 │\n",
       "│ 4.44  ┆ 8.77 │\n",
       "│ 6.55  ┆ 4.96 │\n",
       "│ 6.55  ┆ 6.13 │\n",
       "└───────┴──────┘"
      ]
     },
     "execution_count": 10,
     "metadata": {},
     "output_type": "execute_result"
    }
   ],
   "source": [
    "df3.filter((pl.col('tolls') != 0) & (pl.col('tips')!=0)).head()"
   ]
  },
  {
   "attachments": {},
   "cell_type": "markdown",
   "metadata": {},
   "source": [
    "### Make new dataframe  with_columns and alias\n",
    "The biggest difference I've found when coming from pandas to polars is how to do some logic and then create new columns!"
   ]
  },
  {
   "cell_type": "code",
   "execution_count": 7,
   "metadata": {},
   "outputs": [
    {
     "data": {
      "text/html": [
       "<div><style>\n",
       ".dataframe > thead > tr > th,\n",
       ".dataframe > tbody > tr > td {\n",
       "  text-align: right;\n",
       "}\n",
       "</style>\n",
       "<small>shape: (5, 8)</small><table border=\"1\" class=\"dataframe\"><thead><tr><th>hvfhs_license_num</th><th>dispatching_base_num</th><th>tolls</th><th>sales_tax</th><th>tips</th><th>trip_miles</th><th>trip_time</th><th>rounded_miles</th></tr><tr><td>str</td><td>str</td><td>f64</td><td>f64</td><td>f64</td><td>f64</td><td>i64</td><td>f64</td></tr></thead><tbody><tr><td>&quot;HV0003&quot;</td><td>&quot;B03404&quot;</td><td>0.0</td><td>2.21</td><td>0.0</td><td>1.18</td><td>664</td><td>1.2</td></tr><tr><td>&quot;HV0003&quot;</td><td>&quot;B03404&quot;</td><td>0.0</td><td>1.06</td><td>0.0</td><td>0.82</td><td>460</td><td>0.8</td></tr><tr><td>&quot;HV0003&quot;</td><td>&quot;B03404&quot;</td><td>0.0</td><td>2.65</td><td>0.0</td><td>1.18</td><td>595</td><td>1.2</td></tr><tr><td>&quot;HV0003&quot;</td><td>&quot;B03404&quot;</td><td>0.0</td><td>0.7</td><td>0.0</td><td>1.65</td><td>303</td><td>1.7</td></tr><tr><td>&quot;HV0003&quot;</td><td>&quot;B03404&quot;</td><td>0.0</td><td>0.84</td><td>0.0</td><td>1.65</td><td>461</td><td>1.7</td></tr></tbody></table></div>"
      ],
      "text/plain": [
       "shape: (5, 8)\n",
       "┌───────────────┬───────────────┬───────┬───────────┬──────┬────────────┬───────────┬──────────────┐\n",
       "│ hvfhs_license ┆ dispatching_b ┆ tolls ┆ sales_tax ┆ tips ┆ trip_miles ┆ trip_time ┆ rounded_mile │\n",
       "│ _num          ┆ ase_num       ┆ ---   ┆ ---       ┆ ---  ┆ ---        ┆ ---       ┆ s            │\n",
       "│ ---           ┆ ---           ┆ f64   ┆ f64       ┆ f64  ┆ f64        ┆ i64       ┆ ---          │\n",
       "│ str           ┆ str           ┆       ┆           ┆      ┆            ┆           ┆ f64          │\n",
       "╞═══════════════╪═══════════════╪═══════╪═══════════╪══════╪════════════╪═══════════╪══════════════╡\n",
       "│ HV0003        ┆ B03404        ┆ 0.0   ┆ 2.21      ┆ 0.0  ┆ 1.18       ┆ 664       ┆ 1.2          │\n",
       "│ HV0003        ┆ B03404        ┆ 0.0   ┆ 1.06      ┆ 0.0  ┆ 0.82       ┆ 460       ┆ 0.8          │\n",
       "│ HV0003        ┆ B03404        ┆ 0.0   ┆ 2.65      ┆ 0.0  ┆ 1.18       ┆ 595       ┆ 1.2          │\n",
       "│ HV0003        ┆ B03404        ┆ 0.0   ┆ 0.7       ┆ 0.0  ┆ 1.65       ┆ 303       ┆ 1.7          │\n",
       "│ HV0003        ┆ B03404        ┆ 0.0   ┆ 0.84      ┆ 0.0  ┆ 1.65       ┆ 461       ┆ 1.7          │\n",
       "└───────────────┴───────────────┴───────┴───────────┴──────┴────────────┴───────────┴──────────────┘"
      ]
     },
     "execution_count": 7,
     "metadata": {},
     "output_type": "execute_result"
    }
   ],
   "source": [
    "df2.with_columns(pl.col(\"trip_miles\").round(1).alias(\"rounded_miles\")).head()"
   ]
  },
  {
   "attachments": {},
   "cell_type": "markdown",
   "metadata": {},
   "source": [
    "### Aggregate\n",
    "groupby and aggregations will be very useful in data handling for visualizations. This is how you can use it to create a dataframe showcasing the distribution of rides based on time and miles."
   ]
  },
  {
   "cell_type": "code",
   "execution_count": 6,
   "metadata": {},
   "outputs": [
    {
     "data": {
      "text/html": [
       "<div><style>\n",
       ".dataframe > thead > tr > th,\n",
       ".dataframe > tbody > tr > td {\n",
       "  text-align: right;\n",
       "}\n",
       "</style>\n",
       "<small>shape: (2530, 3)</small><table border=\"1\" class=\"dataframe\"><thead><tr><th>rounded_miles</th><th>rounded_time</th><th>count</th></tr><tr><td>f64</td><td>f64</td><td>u32</td></tr></thead><tbody><tr><td>15.0</td><td>7000.0</td><td>190</td></tr><tr><td>25.0</td><td>7000.0</td><td>227</td></tr><tr><td>37.0</td><td>8000.0</td><td>56</td></tr><tr><td>114.0</td><td>8000.0</td><td>35</td></tr><tr><td>65.0</td><td>6000.0</td><td>209</td></tr><tr><td>65.0</td><td>5000.0</td><td>398</td></tr><tr><td>65.0</td><td>4000.0</td><td>130</td></tr><tr><td>53.0</td><td>9000.0</td><td>13</td></tr><tr><td>67.0</td><td>5000.0</td><td>317</td></tr><tr><td>139.0</td><td>13000.0</td><td>1</td></tr><tr><td>12.0</td><td>12000.0</td><td>2</td></tr><tr><td>194.0</td><td>12000.0</td><td>2</td></tr><tr><td>&hellip;</td><td>&hellip;</td><td>&hellip;</td></tr><tr><td>47.0</td><td>5000.0</td><td>806</td></tr><tr><td>60.0</td><td>4000.0</td><td>399</td></tr><tr><td>88.0</td><td>7000.0</td><td>76</td></tr><tr><td>133.0</td><td>8000.0</td><td>9</td></tr><tr><td>105.0</td><td>7000.0</td><td>43</td></tr><tr><td>109.0</td><td>32000.0</td><td>1</td></tr><tr><td>89.0</td><td>9000.0</td><td>13</td></tr><tr><td>132.0</td><td>10000.0</td><td>10</td></tr><tr><td>4.0</td><td>5000.0</td><td>300</td></tr><tr><td>74.0</td><td>7000.0</td><td>48</td></tr><tr><td>125.0</td><td>8000.0</td><td>16</td></tr><tr><td>135.0</td><td>9000.0</td><td>14</td></tr></tbody></table></div>"
      ],
      "text/plain": [
       "shape: (2530, 3)\n",
       "┌───────────────┬──────────────┬───────┐\n",
       "│ rounded_miles ┆ rounded_time ┆ count │\n",
       "│ ---           ┆ ---          ┆ ---   │\n",
       "│ f64           ┆ f64          ┆ u32   │\n",
       "╞═══════════════╪══════════════╪═══════╡\n",
       "│ 15.0          ┆ 7000.0       ┆ 190   │\n",
       "│ 25.0          ┆ 7000.0       ┆ 227   │\n",
       "│ 37.0          ┆ 8000.0       ┆ 56    │\n",
       "│ 114.0         ┆ 8000.0       ┆ 35    │\n",
       "│ …             ┆ …            ┆ …     │\n",
       "│ 4.0           ┆ 5000.0       ┆ 300   │\n",
       "│ 74.0          ┆ 7000.0       ┆ 48    │\n",
       "│ 125.0         ┆ 8000.0       ┆ 16    │\n",
       "│ 135.0         ┆ 9000.0       ┆ 14    │\n",
       "└───────────────┴──────────────┴───────┘"
      ]
     },
     "execution_count": 6,
     "metadata": {},
     "output_type": "execute_result"
    }
   ],
   "source": [
    "df.select('hvfhs_license_num', 'dispatching_base_num', 'tolls', 'sales_tax','tips', 'trip_miles', 'trip_time').with_columns(\n",
    "            [\n",
    "                pl.col(\"trip_miles\")\n",
    "                .round(0)\n",
    "                .alias(\"rounded_miles\"),\n",
    "                ((pl.col(\"trip_time\")/1000).round(0)*1000)\n",
    "                .alias(\"rounded_time\"),\n",
    "            ]\n",
    ").groupby([\"rounded_miles\", \"rounded_time\"]).count()"
   ]
  },
  {
   "attachments": {},
   "cell_type": "markdown",
   "metadata": {},
   "source": [
    "## Lazy vs eager\n",
    "Polars lazy API allows you to build queries on data but waits on execution untill you say it's time. Here's an example of how using the two differs.\n",
    "Also note the run time on the lazy calculation, it's a lot faster than the eager one!"
   ]
  },
  {
   "attachments": {},
   "cell_type": "markdown",
   "metadata": {},
   "source": [
    "### Eager API with dataframe\n",
    "So far we've only been using the eager API. Eager means polars will execute each expression as soon as we decalare them one after the other."
   ]
  },
  {
   "cell_type": "code",
   "execution_count": 6,
   "metadata": {},
   "outputs": [
    {
     "data": {
      "text/html": [
       "<div><style>\n",
       ".dataframe > thead > tr > th,\n",
       ".dataframe > tbody > tr > td {\n",
       "  text-align: right;\n",
       "}\n",
       "</style>\n",
       "<small>shape: (1142, 9)</small><table border=\"1\" class=\"dataframe\"><thead><tr><th>hvfhs_license_num</th><th>dispatching_base_num</th><th>tolls</th><th>sales_tax</th><th>tips</th><th>trip_miles</th><th>trip_time</th><th>rounded_miles</th><th>rounded_time</th></tr><tr><td>str</td><td>cat</td><td>f64</td><td>f64</td><td>f64</td><td>f64</td><td>i64</td><td>f64</td><td>f64</td></tr></thead><tbody><tr><td>&quot;HV0003&quot;</td><td>&quot;B03404&quot;</td><td>41.3</td><td>0.0</td><td>0.0</td><td>100.65</td><td>7763</td><td>101.0</td><td>7800.0</td></tr><tr><td>&quot;HV0003&quot;</td><td>&quot;B03404&quot;</td><td>8.3</td><td>0.0</td><td>0.0</td><td>100.96</td><td>6306</td><td>101.0</td><td>6300.0</td></tr><tr><td>&quot;HV0003&quot;</td><td>&quot;B03404&quot;</td><td>33.4</td><td>0.0</td><td>0.0</td><td>100.51</td><td>6730</td><td>101.0</td><td>6700.0</td></tr><tr><td>&quot;HV0003&quot;</td><td>&quot;B03404&quot;</td><td>21.25</td><td>0.0</td><td>0.0</td><td>101.33</td><td>8193</td><td>101.0</td><td>8200.0</td></tr><tr><td>&quot;HV0003&quot;</td><td>&quot;B03404&quot;</td><td>21.0</td><td>0.0</td><td>0.0</td><td>101.24</td><td>7381</td><td>101.0</td><td>7400.0</td></tr><tr><td>&quot;HV0003&quot;</td><td>&quot;B03404&quot;</td><td>35.94</td><td>0.0</td><td>0.0</td><td>100.62</td><td>7985</td><td>101.0</td><td>8000.0</td></tr><tr><td>&quot;HV0003&quot;</td><td>&quot;B03404&quot;</td><td>8.3</td><td>0.0</td><td>31.79</td><td>100.91</td><td>8921</td><td>101.0</td><td>8900.0</td></tr><tr><td>&quot;HV0003&quot;</td><td>&quot;B03404&quot;</td><td>8.3</td><td>0.0</td><td>0.0</td><td>101.13</td><td>8318</td><td>101.0</td><td>8300.0</td></tr><tr><td>&quot;HV0003&quot;</td><td>&quot;B03404&quot;</td><td>37.75</td><td>0.0</td><td>0.0</td><td>101.02</td><td>7339</td><td>101.0</td><td>7300.0</td></tr><tr><td>&quot;HV0003&quot;</td><td>&quot;B03404&quot;</td><td>37.6</td><td>0.0</td><td>0.0</td><td>100.9</td><td>7437</td><td>101.0</td><td>7400.0</td></tr><tr><td>&quot;HV0003&quot;</td><td>&quot;B03404&quot;</td><td>8.3</td><td>0.0</td><td>0.0</td><td>100.94</td><td>5885</td><td>101.0</td><td>5900.0</td></tr><tr><td>&quot;HV0003&quot;</td><td>&quot;B03404&quot;</td><td>41.59</td><td>0.0</td><td>0.0</td><td>100.76</td><td>7008</td><td>101.0</td><td>7000.0</td></tr><tr><td>&hellip;</td><td>&hellip;</td><td>&hellip;</td><td>&hellip;</td><td>&hellip;</td><td>&hellip;</td><td>&hellip;</td><td>&hellip;</td><td>&hellip;</td></tr><tr><td>&quot;HV0003&quot;</td><td>&quot;B03404&quot;</td><td>27.55</td><td>0.0</td><td>20.0</td><td>260.56</td><td>14987</td><td>261.0</td><td>15000.0</td></tr><tr><td>&quot;HV0003&quot;</td><td>&quot;B03404&quot;</td><td>27.55</td><td>0.0</td><td>0.0</td><td>261.25</td><td>15662</td><td>261.0</td><td>15700.0</td></tr><tr><td>&quot;HV0003&quot;</td><td>&quot;B03404&quot;</td><td>20.0</td><td>0.0</td><td>0.0</td><td>261.71</td><td>18569</td><td>262.0</td><td>18600.0</td></tr><tr><td>&quot;HV0003&quot;</td><td>&quot;B03404&quot;</td><td>20.0</td><td>0.0</td><td>0.0</td><td>262.19</td><td>16699</td><td>262.0</td><td>16700.0</td></tr><tr><td>&quot;HV0003&quot;</td><td>&quot;B03404&quot;</td><td>76.75</td><td>61.64</td><td>0.0</td><td>265.08</td><td>17640</td><td>265.0</td><td>17600.0</td></tr><tr><td>&quot;HV0003&quot;</td><td>&quot;B03404&quot;</td><td>46.31</td><td>0.0</td><td>0.0</td><td>265.8</td><td>19924</td><td>266.0</td><td>19900.0</td></tr><tr><td>&quot;HV0003&quot;</td><td>&quot;B03404&quot;</td><td>48.88</td><td>0.0</td><td>0.0</td><td>266.42</td><td>21345</td><td>266.0</td><td>21300.0</td></tr><tr><td>&quot;HV0003&quot;</td><td>&quot;B03404&quot;</td><td>26.12</td><td>77.02</td><td>0.0</td><td>270.9</td><td>15931</td><td>271.0</td><td>15900.0</td></tr><tr><td>&quot;HV0003&quot;</td><td>&quot;B03404&quot;</td><td>0.0</td><td>0.0</td><td>0.0</td><td>275.34</td><td>16762</td><td>275.0</td><td>16800.0</td></tr><tr><td>&quot;HV0003&quot;</td><td>&quot;B03404&quot;</td><td>46.33</td><td>0.0</td><td>0.0</td><td>290.88</td><td>15862</td><td>291.0</td><td>15900.0</td></tr><tr><td>&quot;HV0003&quot;</td><td>&quot;B03404&quot;</td><td>77.33</td><td>72.31</td><td>0.0</td><td>301.95</td><td>22971</td><td>302.0</td><td>23000.0</td></tr><tr><td>&quot;HV0003&quot;</td><td>&quot;B03404&quot;</td><td>40.26</td><td>0.0</td><td>65.92</td><td>351.17</td><td>23780</td><td>351.0</td><td>23800.0</td></tr></tbody></table></div>"
      ],
      "text/plain": [
       "shape: (1142, 9)\n",
       "┌────────────┬────────────┬───────┬───────────┬───┬──────────┬───────────┬────────────┬────────────┐\n",
       "│ hvfhs_lice ┆ dispatchin ┆ tolls ┆ sales_tax ┆ … ┆ trip_mil ┆ trip_time ┆ rounded_mi ┆ rounded_ti │\n",
       "│ nse_num    ┆ g_base_num ┆ ---   ┆ ---       ┆   ┆ es       ┆ ---       ┆ les        ┆ me         │\n",
       "│ ---        ┆ ---        ┆ f64   ┆ f64       ┆   ┆ ---      ┆ i64       ┆ ---        ┆ ---        │\n",
       "│ str        ┆ cat        ┆       ┆           ┆   ┆ f64      ┆           ┆ f64        ┆ f64        │\n",
       "╞════════════╪════════════╪═══════╪═══════════╪═══╪══════════╪═══════════╪════════════╪════════════╡\n",
       "│ HV0003     ┆ B03404     ┆ 41.3  ┆ 0.0       ┆ … ┆ 100.65   ┆ 7763      ┆ 101.0      ┆ 7800.0     │\n",
       "│ HV0003     ┆ B03404     ┆ 8.3   ┆ 0.0       ┆ … ┆ 100.96   ┆ 6306      ┆ 101.0      ┆ 6300.0     │\n",
       "│ HV0003     ┆ B03404     ┆ 33.4  ┆ 0.0       ┆ … ┆ 100.51   ┆ 6730      ┆ 101.0      ┆ 6700.0     │\n",
       "│ HV0003     ┆ B03404     ┆ 21.25 ┆ 0.0       ┆ … ┆ 101.33   ┆ 8193      ┆ 101.0      ┆ 8200.0     │\n",
       "│ …          ┆ …          ┆ …     ┆ …         ┆ … ┆ …        ┆ …         ┆ …          ┆ …          │\n",
       "│ HV0003     ┆ B03404     ┆ 0.0   ┆ 0.0       ┆ … ┆ 275.34   ┆ 16762     ┆ 275.0      ┆ 16800.0    │\n",
       "│ HV0003     ┆ B03404     ┆ 46.33 ┆ 0.0       ┆ … ┆ 290.88   ┆ 15862     ┆ 291.0      ┆ 15900.0    │\n",
       "│ HV0003     ┆ B03404     ┆ 77.33 ┆ 72.31     ┆ … ┆ 301.95   ┆ 22971     ┆ 302.0      ┆ 23000.0    │\n",
       "│ HV0003     ┆ B03404     ┆ 40.26 ┆ 0.0       ┆ … ┆ 351.17   ┆ 23780     ┆ 351.0      ┆ 23800.0    │\n",
       "└────────────┴────────────┴───────┴───────────┴───┴──────────┴───────────┴────────────┴────────────┘"
      ]
     },
     "execution_count": 6,
     "metadata": {},
     "output_type": "execute_result"
    }
   ],
   "source": [
    "df.select(\n",
    "    \"hvfhs_license_num\",\n",
    "    \"dispatching_base_num\",\n",
    "    \"tolls\",\n",
    "    \"sales_tax\",\n",
    "    \"tips\",\n",
    "    \"trip_miles\",\n",
    "    \"trip_time\",\n",
    ").with_columns(\n",
    "    [\n",
    "        pl.col(\"trip_miles\").round(0).alias(\"rounded_miles\"),\n",
    "        ((pl.col(\"trip_time\")/100).round(0)*100)\n",
    "        .alias(\"rounded_time\"),\n",
    "        pl.col(\"dispatching_base_num\").cast(pl.Categorical),\n",
    "    ]\n",
    ").sort(\n",
    "    pl.col(\"sales_tax\")\n",
    ").sort(\n",
    "    pl.col(\"rounded_miles\")\n",
    ").filter(\n",
    "    pl.col(\"rounded_miles\") > 100\n",
    ").filter(\n",
    "    pl.col(\"rounded_time\") > 10\n",
    ").filter(pl.col(\"dispatching_base_num\") == \"B03404\")"
   ]
  },
  {
   "attachments": {},
   "cell_type": "markdown",
   "metadata": {},
   "source": [
    "### Lazy API with lazyframe\n",
    "What makes polars really powerful is its lazy computation mode. If you add a .lazy() to the end of your dataframe or instead of reading a file use one of the scan methods, your data is used to build a lazyframe instead of a dataframe. You can use almost all the same expressions and methods on a lazyframe but polars won’t execute any computations until you indicate it should by using the .collect() method."
   ]
  },
  {
   "attachments": {},
   "cell_type": "markdown",
   "metadata": {},
   "source": [
    "#### Build first"
   ]
  },
  {
   "cell_type": "code",
   "execution_count": 7,
   "metadata": {},
   "outputs": [],
   "source": [
    "ldf = pl.scan_ipc(\"data/fhvhv_data.arrow\")\n",
    "query = ldf.select(\n",
    "    \"hvfhs_license_num\",\n",
    "    \"dispatching_base_num\",\n",
    "    \"tolls\",\n",
    "    \"sales_tax\",\n",
    "    \"tips\",\n",
    "    \"trip_miles\",\n",
    "    \"trip_time\",\n",
    ").with_columns(\n",
    "    [\n",
    "        pl.col(\"trip_miles\").round(0).alias(\"rounded_miles\"),\n",
    "        ((pl.col(\"trip_time\")/100).round(0)*100)\n",
    "        .alias(\"rounded_time\"),\n",
    "        pl.col(\"dispatching_base_num\").cast(pl.Categorical),\n",
    "    ]\n",
    ").sort(\n",
    "    pl.col(\"sales_tax\")\n",
    ").sort(\n",
    "    pl.col(\"rounded_miles\")\n",
    ").filter(\n",
    "    pl.col(\"rounded_miles\") > 100\n",
    ").filter(\n",
    "    pl.col(\"rounded_time\") > 10\n",
    ").filter(pl.col(\"dispatching_base_num\") == \"B03404\")"
   ]
  },
  {
   "attachments": {},
   "cell_type": "markdown",
   "metadata": {},
   "source": [
    "#### Then use collect for computation to fire"
   ]
  },
  {
   "cell_type": "code",
   "execution_count": 8,
   "metadata": {},
   "outputs": [
    {
     "data": {
      "text/html": [
       "<div><style>\n",
       ".dataframe > thead > tr > th,\n",
       ".dataframe > tbody > tr > td {\n",
       "  text-align: right;\n",
       "}\n",
       "</style>\n",
       "<small>shape: (1142, 9)</small><table border=\"1\" class=\"dataframe\"><thead><tr><th>hvfhs_license_num</th><th>dispatching_base_num</th><th>tolls</th><th>sales_tax</th><th>tips</th><th>trip_miles</th><th>trip_time</th><th>rounded_miles</th><th>rounded_time</th></tr><tr><td>str</td><td>cat</td><td>f64</td><td>f64</td><td>f64</td><td>f64</td><td>i64</td><td>f64</td><td>f64</td></tr></thead><tbody><tr><td>&quot;HV0003&quot;</td><td>&quot;B03404&quot;</td><td>41.3</td><td>0.0</td><td>0.0</td><td>100.65</td><td>7763</td><td>101.0</td><td>7800.0</td></tr><tr><td>&quot;HV0003&quot;</td><td>&quot;B03404&quot;</td><td>8.3</td><td>0.0</td><td>0.0</td><td>100.96</td><td>6306</td><td>101.0</td><td>6300.0</td></tr><tr><td>&quot;HV0003&quot;</td><td>&quot;B03404&quot;</td><td>33.4</td><td>0.0</td><td>0.0</td><td>100.51</td><td>6730</td><td>101.0</td><td>6700.0</td></tr><tr><td>&quot;HV0003&quot;</td><td>&quot;B03404&quot;</td><td>21.25</td><td>0.0</td><td>0.0</td><td>101.33</td><td>8193</td><td>101.0</td><td>8200.0</td></tr><tr><td>&quot;HV0003&quot;</td><td>&quot;B03404&quot;</td><td>21.0</td><td>0.0</td><td>0.0</td><td>101.24</td><td>7381</td><td>101.0</td><td>7400.0</td></tr><tr><td>&quot;HV0003&quot;</td><td>&quot;B03404&quot;</td><td>35.94</td><td>0.0</td><td>0.0</td><td>100.62</td><td>7985</td><td>101.0</td><td>8000.0</td></tr><tr><td>&quot;HV0003&quot;</td><td>&quot;B03404&quot;</td><td>8.3</td><td>0.0</td><td>31.79</td><td>100.91</td><td>8921</td><td>101.0</td><td>8900.0</td></tr><tr><td>&quot;HV0003&quot;</td><td>&quot;B03404&quot;</td><td>8.3</td><td>0.0</td><td>0.0</td><td>101.13</td><td>8318</td><td>101.0</td><td>8300.0</td></tr><tr><td>&quot;HV0003&quot;</td><td>&quot;B03404&quot;</td><td>37.75</td><td>0.0</td><td>0.0</td><td>101.02</td><td>7339</td><td>101.0</td><td>7300.0</td></tr><tr><td>&quot;HV0003&quot;</td><td>&quot;B03404&quot;</td><td>37.6</td><td>0.0</td><td>0.0</td><td>100.9</td><td>7437</td><td>101.0</td><td>7400.0</td></tr><tr><td>&quot;HV0003&quot;</td><td>&quot;B03404&quot;</td><td>8.3</td><td>0.0</td><td>0.0</td><td>100.94</td><td>5885</td><td>101.0</td><td>5900.0</td></tr><tr><td>&quot;HV0003&quot;</td><td>&quot;B03404&quot;</td><td>41.59</td><td>0.0</td><td>0.0</td><td>100.76</td><td>7008</td><td>101.0</td><td>7000.0</td></tr><tr><td>&hellip;</td><td>&hellip;</td><td>&hellip;</td><td>&hellip;</td><td>&hellip;</td><td>&hellip;</td><td>&hellip;</td><td>&hellip;</td><td>&hellip;</td></tr><tr><td>&quot;HV0003&quot;</td><td>&quot;B03404&quot;</td><td>27.55</td><td>0.0</td><td>20.0</td><td>260.56</td><td>14987</td><td>261.0</td><td>15000.0</td></tr><tr><td>&quot;HV0003&quot;</td><td>&quot;B03404&quot;</td><td>27.55</td><td>0.0</td><td>0.0</td><td>261.25</td><td>15662</td><td>261.0</td><td>15700.0</td></tr><tr><td>&quot;HV0003&quot;</td><td>&quot;B03404&quot;</td><td>20.0</td><td>0.0</td><td>0.0</td><td>261.71</td><td>18569</td><td>262.0</td><td>18600.0</td></tr><tr><td>&quot;HV0003&quot;</td><td>&quot;B03404&quot;</td><td>20.0</td><td>0.0</td><td>0.0</td><td>262.19</td><td>16699</td><td>262.0</td><td>16700.0</td></tr><tr><td>&quot;HV0003&quot;</td><td>&quot;B03404&quot;</td><td>76.75</td><td>61.64</td><td>0.0</td><td>265.08</td><td>17640</td><td>265.0</td><td>17600.0</td></tr><tr><td>&quot;HV0003&quot;</td><td>&quot;B03404&quot;</td><td>46.31</td><td>0.0</td><td>0.0</td><td>265.8</td><td>19924</td><td>266.0</td><td>19900.0</td></tr><tr><td>&quot;HV0003&quot;</td><td>&quot;B03404&quot;</td><td>48.88</td><td>0.0</td><td>0.0</td><td>266.42</td><td>21345</td><td>266.0</td><td>21300.0</td></tr><tr><td>&quot;HV0003&quot;</td><td>&quot;B03404&quot;</td><td>26.12</td><td>77.02</td><td>0.0</td><td>270.9</td><td>15931</td><td>271.0</td><td>15900.0</td></tr><tr><td>&quot;HV0003&quot;</td><td>&quot;B03404&quot;</td><td>0.0</td><td>0.0</td><td>0.0</td><td>275.34</td><td>16762</td><td>275.0</td><td>16800.0</td></tr><tr><td>&quot;HV0003&quot;</td><td>&quot;B03404&quot;</td><td>46.33</td><td>0.0</td><td>0.0</td><td>290.88</td><td>15862</td><td>291.0</td><td>15900.0</td></tr><tr><td>&quot;HV0003&quot;</td><td>&quot;B03404&quot;</td><td>77.33</td><td>72.31</td><td>0.0</td><td>301.95</td><td>22971</td><td>302.0</td><td>23000.0</td></tr><tr><td>&quot;HV0003&quot;</td><td>&quot;B03404&quot;</td><td>40.26</td><td>0.0</td><td>65.92</td><td>351.17</td><td>23780</td><td>351.0</td><td>23800.0</td></tr></tbody></table></div>"
      ],
      "text/plain": [
       "shape: (1142, 9)\n",
       "┌────────────┬────────────┬───────┬───────────┬───┬──────────┬───────────┬────────────┬────────────┐\n",
       "│ hvfhs_lice ┆ dispatchin ┆ tolls ┆ sales_tax ┆ … ┆ trip_mil ┆ trip_time ┆ rounded_mi ┆ rounded_ti │\n",
       "│ nse_num    ┆ g_base_num ┆ ---   ┆ ---       ┆   ┆ es       ┆ ---       ┆ les        ┆ me         │\n",
       "│ ---        ┆ ---        ┆ f64   ┆ f64       ┆   ┆ ---      ┆ i64       ┆ ---        ┆ ---        │\n",
       "│ str        ┆ cat        ┆       ┆           ┆   ┆ f64      ┆           ┆ f64        ┆ f64        │\n",
       "╞════════════╪════════════╪═══════╪═══════════╪═══╪══════════╪═══════════╪════════════╪════════════╡\n",
       "│ HV0003     ┆ B03404     ┆ 41.3  ┆ 0.0       ┆ … ┆ 100.65   ┆ 7763      ┆ 101.0      ┆ 7800.0     │\n",
       "│ HV0003     ┆ B03404     ┆ 8.3   ┆ 0.0       ┆ … ┆ 100.96   ┆ 6306      ┆ 101.0      ┆ 6300.0     │\n",
       "│ HV0003     ┆ B03404     ┆ 33.4  ┆ 0.0       ┆ … ┆ 100.51   ┆ 6730      ┆ 101.0      ┆ 6700.0     │\n",
       "│ HV0003     ┆ B03404     ┆ 21.25 ┆ 0.0       ┆ … ┆ 101.33   ┆ 8193      ┆ 101.0      ┆ 8200.0     │\n",
       "│ …          ┆ …          ┆ …     ┆ …         ┆ … ┆ …        ┆ …         ┆ …          ┆ …          │\n",
       "│ HV0003     ┆ B03404     ┆ 0.0   ┆ 0.0       ┆ … ┆ 275.34   ┆ 16762     ┆ 275.0      ┆ 16800.0    │\n",
       "│ HV0003     ┆ B03404     ┆ 46.33 ┆ 0.0       ┆ … ┆ 290.88   ┆ 15862     ┆ 291.0      ┆ 15900.0    │\n",
       "│ HV0003     ┆ B03404     ┆ 77.33 ┆ 72.31     ┆ … ┆ 301.95   ┆ 22971     ┆ 302.0      ┆ 23000.0    │\n",
       "│ HV0003     ┆ B03404     ┆ 40.26 ┆ 0.0       ┆ … ┆ 351.17   ┆ 23780     ┆ 351.0      ┆ 23800.0    │\n",
       "└────────────┴────────────┴───────┴───────────┴───┴──────────┴───────────┴────────────┴────────────┘"
      ]
     },
     "execution_count": 8,
     "metadata": {},
     "output_type": "execute_result"
    }
   ],
   "source": [
    "query.collect()"
   ]
  },
  {
   "attachments": {},
   "cell_type": "markdown",
   "metadata": {},
   "source": [
    "### Visualize the lazy API execution \n",
    "You can check the graph of execution for a lazy query. Notice how polars will filter then sort the data eventhough in my chain of queries it's the other way around. This is one of many ways polars will optimize a lazy query before execution."
   ]
  },
  {
   "cell_type": "code",
   "execution_count": 9,
   "metadata": {},
   "outputs": [
    {
     "data": {
      "image/svg+xml": [
       "<svg xmlns=\"http://www.w3.org/2000/svg\" xmlns:xlink=\"http://www.w3.org/1999/xlink\" width=\"611pt\" height=\"421pt\" viewBox=\"0.00 0.00 611.00 421.00\">\n",
       "<g id=\"graph0\" class=\"graph\" transform=\"scale(1 1) rotate(0) translate(4 417)\">\n",
       "<title>polars_query</title>\n",
       "<polygon fill=\"white\" stroke=\"none\" points=\"-4,4 -4,-417 607,-417 607,4 -4,4\"/>\n",
       "<!-- SORT BY [col(&quot;rounded_miles&quot;)] [(0, 0)] -->\n",
       "<g id=\"node1\" class=\"node\">\n",
       "<title>SORT BY [col(&quot;rounded_miles&quot;)] [(0, 0)]</title>\n",
       "<polygon fill=\"none\" stroke=\"black\" points=\"403,-413 200,-413 200,-377 403,-377 403,-413\"/>\n",
       "<text text-anchor=\"middle\" x=\"301.5\" y=\"-391.3\" font-family=\"Times,serif\" font-size=\"14.00\">SORT BY [col(&quot;rounded_miles&quot;)]</text>\n",
       "</g>\n",
       "<!-- SORT BY [col(&quot;sales_tax&quot;)] [(0, 1)] -->\n",
       "<g id=\"node2\" class=\"node\">\n",
       "<title>SORT BY [col(&quot;sales_tax&quot;)] [(0, 1)]</title>\n",
       "<polygon fill=\"none\" stroke=\"black\" points=\"387.5,-341 215.5,-341 215.5,-305 387.5,-305 387.5,-341\"/>\n",
       "<text text-anchor=\"middle\" x=\"301.5\" y=\"-319.3\" font-family=\"Times,serif\" font-size=\"14.00\">SORT BY [col(&quot;sales_tax&quot;)]</text>\n",
       "</g>\n",
       "<!-- SORT BY [col(&quot;rounded_miles&quot;)] [(0, 0)]&#45;&#45;SORT BY [col(&quot;sales_tax&quot;)] [(0, 1)] -->\n",
       "<g id=\"edge1\" class=\"edge\">\n",
       "<title>SORT BY [col(&quot;rounded_miles&quot;)] [(0, 0)]--SORT BY [col(&quot;sales_tax&quot;)] [(0, 1)]</title>\n",
       "<path fill=\"none\" stroke=\"black\" d=\"M301.5,-376.7C301.5,-365.85 301.5,-351.92 301.5,-341.1\"/>\n",
       "</g>\n",
       "<!-- FILTER BY (((col(&quot;rounded_miles&quot;)) ... [(0, 2)] -->\n",
       "<g id=\"node3\" class=\"node\">\n",
       "<title>FILTER BY (((col(&quot;rounded_miles&quot;)) ... [(0, 2)]</title>\n",
       "<polygon fill=\"none\" stroke=\"black\" points=\"421,-269 182,-269 182,-233 421,-233 421,-269\"/>\n",
       "<text text-anchor=\"middle\" x=\"301.5\" y=\"-247.3\" font-family=\"Times,serif\" font-size=\"14.00\">FILTER BY (((col(&quot;rounded_miles&quot;)) ...</text>\n",
       "</g>\n",
       "<!-- SORT BY [col(&quot;sales_tax&quot;)] [(0, 1)]&#45;&#45;FILTER BY (((col(&quot;rounded_miles&quot;)) ... [(0, 2)] -->\n",
       "<g id=\"edge2\" class=\"edge\">\n",
       "<title>SORT BY [col(&quot;sales_tax&quot;)] [(0, 1)]--FILTER BY (((col(&quot;rounded_miles&quot;)) ... [(0, 2)]</title>\n",
       "<path fill=\"none\" stroke=\"black\" d=\"M301.5,-304.7C301.5,-293.85 301.5,-279.92 301.5,-269.1\"/>\n",
       "</g>\n",
       "<!-- WITH COLUMNS [&quot;rounded_miles&quot;,&quot;rounded_time&quot;,&quot;dispatching_base_num&quot;] [(0, 3)] -->\n",
       "<g id=\"node4\" class=\"node\">\n",
       "<title>WITH COLUMNS [&quot;rounded_miles&quot;,&quot;rounded_time&quot;,&quot;dispatching_base_num&quot;] [(0, 3)]</title>\n",
       "<polygon fill=\"none\" stroke=\"black\" points=\"532,-197 71,-197 71,-161 532,-161 532,-197\"/>\n",
       "<text text-anchor=\"middle\" x=\"301.5\" y=\"-175.3\" font-family=\"Times,serif\" font-size=\"14.00\">WITH COLUMNS [&quot;rounded_miles&quot;,&quot;rounded_time&quot;,&quot;dispatching_base_num&quot;]</text>\n",
       "</g>\n",
       "<!-- FILTER BY (((col(&quot;rounded_miles&quot;)) ... [(0, 2)]&#45;&#45;WITH COLUMNS [&quot;rounded_miles&quot;,&quot;rounded_time&quot;,&quot;dispatching_base_num&quot;] [(0, 3)] -->\n",
       "<g id=\"edge3\" class=\"edge\">\n",
       "<title>FILTER BY (((col(&quot;rounded_miles&quot;)) ... [(0, 2)]--WITH COLUMNS [&quot;rounded_miles&quot;,&quot;rounded_time&quot;,&quot;dispatching_base_num&quot;] [(0, 3)]</title>\n",
       "<path fill=\"none\" stroke=\"black\" d=\"M301.5,-232.7C301.5,-221.85 301.5,-207.92 301.5,-197.1\"/>\n",
       "</g>\n",
       "<!-- FAST_PROJECT: [hvfhs_license_num, dispatching_base_num, tolls, sales_tax, tips, trip_miles, trip_time] [(0, 4)] -->\n",
       "<g id=\"node5\" class=\"node\">\n",
       "<title>FAST_PROJECT: [hvfhs_license_num, dispatching_base_num, tolls, sales_tax, tips, trip_miles, trip_time] [(0, 4)]</title>\n",
       "<polygon fill=\"none\" stroke=\"black\" points=\"603,-125 0,-125 0,-89 603,-89 603,-125\"/>\n",
       "<text text-anchor=\"middle\" x=\"301.5\" y=\"-103.3\" font-family=\"Times,serif\" font-size=\"14.00\">FAST_PROJECT: [hvfhs_license_num, dispatching_base_num, tolls, sales_tax, tips, trip_miles, trip_time]</text>\n",
       "</g>\n",
       "<!-- WITH COLUMNS [&quot;rounded_miles&quot;,&quot;rounded_time&quot;,&quot;dispatching_base_num&quot;] [(0, 3)]&#45;&#45;FAST_PROJECT: [hvfhs_license_num, dispatching_base_num, tolls, sales_tax, tips, trip_miles, trip_time] [(0, 4)] -->\n",
       "<g id=\"edge4\" class=\"edge\">\n",
       "<title>WITH COLUMNS [&quot;rounded_miles&quot;,&quot;rounded_time&quot;,&quot;dispatching_base_num&quot;] [(0, 3)]--FAST_PROJECT: [hvfhs_license_num, dispatching_base_num, tolls, sales_tax, tips, trip_miles, trip_time] [(0, 4)]</title>\n",
       "<path fill=\"none\" stroke=\"black\" d=\"M301.5,-160.7C301.5,-149.85 301.5,-135.92 301.5,-125.1\"/>\n",
       "</g>\n",
       "<!-- IPC SCAN data/fhvhv_data.arrow;\n",
       "π 7/24;\n",
       "σ &#45; [(0, 5)] -->\n",
       "<g id=\"node6\" class=\"node\">\n",
       "<title>IPC SCAN data/fhvhv_data.arrow;\n",
       "π 7/24;\n",
       "σ - [(0, 5)]</title>\n",
       "<polygon fill=\"none\" stroke=\"black\" points=\"405,-53 198,-53 198,0 405,0 405,-53\"/>\n",
       "<text text-anchor=\"middle\" x=\"301.5\" y=\"-37.8\" font-family=\"Times,serif\" font-size=\"14.00\">IPC SCAN data/fhvhv_data.arrow;</text>\n",
       "<text text-anchor=\"middle\" x=\"301.5\" y=\"-22.8\" font-family=\"Times,serif\" font-size=\"14.00\">π 7/24;</text>\n",
       "<text text-anchor=\"middle\" x=\"301.5\" y=\"-7.8\" font-family=\"Times,serif\" font-size=\"14.00\">σ -</text>\n",
       "</g>\n",
       "<!-- FAST_PROJECT: [hvfhs_license_num, dispatching_base_num, tolls, sales_tax, tips, trip_miles, trip_time] [(0, 4)]&#45;&#45;IPC SCAN data/fhvhv_data.arrow;\n",
       "π 7/24;\n",
       "σ &#45; [(0, 5)] -->\n",
       "<g id=\"edge5\" class=\"edge\">\n",
       "<title>FAST_PROJECT: [hvfhs_license_num, dispatching_base_num, tolls, sales_tax, tips, trip_miles, trip_time] [(0, 4)]--IPC SCAN data/fhvhv_data.arrow;\n",
       "π 7/24;\n",
       "σ - [(0, 5)]</title>\n",
       "<path fill=\"none\" stroke=\"black\" d=\"M301.5,-88.58C301.5,-78.19 301.5,-64.81 301.5,-53.22\"/>\n",
       "</g>\n",
       "</g>\n",
       "</svg>"
      ],
      "text/plain": [
       "<IPython.core.display.SVG object>"
      ]
     },
     "metadata": {},
     "output_type": "display_data"
    }
   ],
   "source": [
    "query.show_graph()"
   ]
  }
 ],
 "metadata": {
  "kernelspec": {
   "display_name": "polars-app",
   "language": "python",
   "name": "python3"
  },
  "language_info": {
   "codemirror_mode": {
    "name": "ipython",
    "version": 3
   },
   "file_extension": ".py",
   "mimetype": "text/x-python",
   "name": "python",
   "nbconvert_exporter": "python",
   "pygments_lexer": "ipython3",
   "version": "3.9.16"
  },
  "orig_nbformat": 4
 },
 "nbformat": 4,
 "nbformat_minor": 2
}
